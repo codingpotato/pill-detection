{
  "nbformat": 4,
  "nbformat_minor": 0,
  "metadata": {
    "colab": {
      "name": "pill detection",
      "version": "0.3.2",
      "provenance": [],
      "collapsed_sections": [],
      "toc_visible": true,
      "include_colab_link": true
    },
    "kernelspec": {
      "name": "python2",
      "display_name": "Python 2"
    },
    "accelerator": "GPU"
  },
  "cells": [
    {
      "cell_type": "markdown",
      "metadata": {
        "id": "view-in-github",
        "colab_type": "text"
      },
      "source": [
        "<a href=\"https://colab.research.google.com/github/codingpotato/pill-detection/blob/master/pill_detection.ipynb\" target=\"_parent\"><img src=\"https://colab.research.google.com/assets/colab-badge.svg\" alt=\"Open In Colab\"/></a>"
      ]
    },
    {
      "metadata": {
        "id": "6NHrSMCJPVcQ",
        "colab_type": "text"
      },
      "cell_type": "markdown",
      "source": [
        "# Setup Environment"
      ]
    },
    {
      "metadata": {
        "id": "dsstQzSyeVDF",
        "colab_type": "text"
      },
      "cell_type": "markdown",
      "source": [
        "## Clone Pill Detection"
      ]
    },
    {
      "metadata": {
        "id": "qUB5tvgGeXzg",
        "colab_type": "code",
        "outputId": "62884a0b-f9f2-40c2-9ef6-bba8263a8782",
        "colab": {
          "base_uri": "https://localhost:8080/",
          "height": 150
        }
      },
      "cell_type": "code",
      "source": [
        "!git clone https://github.com/codingpotato/pill-detection.git"
      ],
      "execution_count": 5,
      "outputs": [
        {
          "output_type": "stream",
          "text": [
            "Cloning into 'pill-detection'...\n",
            "remote: Enumerating objects: 49, done.\u001b[K\n",
            "remote: Counting objects:   2% (1/49)   \u001b[K\rremote: Counting objects:   4% (2/49)   \u001b[K\rremote: Counting objects:   6% (3/49)   \u001b[K\rremote: Counting objects:   8% (4/49)   \u001b[K\rremote: Counting objects:  10% (5/49)   \u001b[K\rremote: Counting objects:  12% (6/49)   \u001b[K\rremote: Counting objects:  14% (7/49)   \u001b[K\rremote: Counting objects:  16% (8/49)   \u001b[K\rremote: Counting objects:  18% (9/49)   \u001b[K\rremote: Counting objects:  20% (10/49)   \u001b[K\rremote: Counting objects:  22% (11/49)   \u001b[K\rremote: Counting objects:  24% (12/49)   \u001b[K\rremote: Counting objects:  26% (13/49)   \u001b[K\rremote: Counting objects:  28% (14/49)   \u001b[K\rremote: Counting objects:  30% (15/49)   \u001b[K\rremote: Counting objects:  32% (16/49)   \u001b[K\rremote: Counting objects:  34% (17/49)   \u001b[K\rremote: Counting objects:  36% (18/49)   \u001b[K\rremote: Counting objects:  38% (19/49)   \u001b[K\rremote: Counting objects:  40% (20/49)   \u001b[K\rremote: Counting objects:  42% (21/49)   \u001b[K\rremote: Counting objects:  44% (22/49)   \u001b[K\rremote: Counting objects:  46% (23/49)   \u001b[K\rremote: Counting objects:  48% (24/49)   \u001b[K\rremote: Counting objects:  51% (25/49)   \u001b[K\rremote: Counting objects:  53% (26/49)   \u001b[K\rremote: Counting objects:  55% (27/49)   \u001b[K\rremote: Counting objects:  57% (28/49)   \u001b[K\rremote: Counting objects:  59% (29/49)   \u001b[K\rremote: Counting objects:  61% (30/49)   \u001b[K\rremote: Counting objects:  63% (31/49)   \u001b[K\rremote: Counting objects:  65% (32/49)   \u001b[K\rremote: Counting objects:  67% (33/49)   \u001b[K\rremote: Counting objects:  69% (34/49)   \u001b[K\rremote: Counting objects:  71% (35/49)   \u001b[K\rremote: Counting objects:  73% (36/49)   \u001b[K\rremote: Counting objects:  75% (37/49)   \u001b[K\rremote: Counting objects:  77% (38/49)   \u001b[K\rremote: Counting objects:  79% (39/49)   \u001b[K\rremote: Counting objects:  81% (40/49)   \u001b[K\rremote: Counting objects:  83% (41/49)   \u001b[K\rremote: Counting objects:  85% (42/49)   \u001b[K\rremote: Counting objects:  87% (43/49)   \u001b[K\rremote: Counting objects:  89% (44/49)   \u001b[K\rremote: Counting objects:  91% (45/49)   \u001b[K\rremote: Counting objects:  93% (46/49)   \u001b[K\rremote: Counting objects:  95% (47/49)   \u001b[K\rremote: Counting objects:  97% (48/49)   \u001b[K\rremote: Counting objects: 100% (49/49)   \u001b[K\rremote: Counting objects: 100% (49/49), done.\u001b[K\n",
            "remote: Compressing objects:   2% (1/46)   \u001b[K\rremote: Compressing objects:   4% (2/46)   \u001b[K\rremote: Compressing objects:   6% (3/46)   \u001b[K\rremote: Compressing objects:   8% (4/46)   \u001b[K\rremote: Compressing objects:  10% (5/46)   \u001b[K\rremote: Compressing objects:  13% (6/46)   \u001b[K\rremote: Compressing objects:  15% (7/46)   \u001b[K\rremote: Compressing objects:  17% (8/46)   \u001b[K\rremote: Compressing objects:  19% (9/46)   \u001b[K\rremote: Compressing objects:  21% (10/46)   \u001b[K\rremote: Compressing objects:  23% (11/46)   \u001b[K\rremote: Compressing objects:  26% (12/46)   \u001b[K\rremote: Compressing objects:  28% (13/46)   \u001b[K\rremote: Compressing objects:  30% (14/46)   \u001b[K\rremote: Compressing objects:  32% (15/46)   \u001b[K\rremote: Compressing objects:  34% (16/46)   \u001b[K\rremote: Compressing objects:  36% (17/46)   \u001b[K\rremote: Compressing objects:  39% (18/46)   \u001b[K\rremote: Compressing objects:  41% (19/46)   \u001b[K\rremote: Compressing objects:  43% (20/46)   \u001b[K\rremote: Compressing objects:  45% (21/46)   \u001b[K\rremote: Compressing objects:  47% (22/46)   \u001b[K\rremote: Compressing objects:  50% (23/46)   \u001b[K\rremote: Compressing objects:  52% (24/46)   \u001b[K\rremote: Compressing objects:  54% (25/46)   \u001b[K\rremote: Compressing objects:  56% (26/46)   \u001b[K\rremote: Compressing objects:  58% (27/46)   \u001b[K\rremote: Compressing objects:  60% (28/46)   \u001b[K\rremote: Compressing objects:  63% (29/46)   \u001b[K\rremote: Compressing objects:  65% (30/46)   \u001b[K\rremote: Compressing objects:  67% (31/46)   \u001b[K\rremote: Compressing objects:  69% (32/46)   \u001b[K\rremote: Compressing objects:  71% (33/46)   \u001b[K\rremote: Compressing objects:  73% (34/46)   \u001b[K\rremote: Compressing objects:  76% (35/46)   \u001b[K\rremote: Compressing objects:  78% (36/46)   \u001b[K\rremote: Compressing objects:  80% (37/46)   \u001b[K\rremote: Compressing objects:  82% (38/46)   \u001b[K\rremote: Compressing objects:  84% (39/46)   \u001b[K\rremote: Compressing objects:  86% (40/46)   \u001b[K\rremote: Compressing objects:  89% (41/46)   \u001b[K\rremote: Compressing objects:  91% (42/46)   \u001b[K\rremote: Compressing objects:  93% (43/46)   \u001b[K\rremote: Compressing objects:  95% (44/46)   \u001b[K\rremote: Compressing objects:  97% (45/46)   \u001b[K\rremote: Compressing objects: 100% (46/46)   \u001b[K\rremote: Compressing objects: 100% (46/46), done.\u001b[K\n",
            "Unpacking objects:   2% (1/49)   \rUnpacking objects:   4% (2/49)   \rUnpacking objects:   6% (3/49)   \rUnpacking objects:   8% (4/49)   \rUnpacking objects:  10% (5/49)   \rUnpacking objects:  12% (6/49)   \rUnpacking objects:  14% (7/49)   \rUnpacking objects:  16% (8/49)   \rUnpacking objects:  18% (9/49)   \rUnpacking objects:  20% (10/49)   \rUnpacking objects:  22% (11/49)   \rUnpacking objects:  24% (12/49)   \rUnpacking objects:  26% (13/49)   \rUnpacking objects:  28% (14/49)   \rUnpacking objects:  30% (15/49)   \rUnpacking objects:  32% (16/49)   \rUnpacking objects:  34% (17/49)   \rUnpacking objects:  36% (18/49)   \rUnpacking objects:  38% (19/49)   \rUnpacking objects:  40% (20/49)   \rUnpacking objects:  42% (21/49)   \rUnpacking objects:  44% (22/49)   \rUnpacking objects:  46% (23/49)   \rUnpacking objects:  48% (24/49)   \rUnpacking objects:  51% (25/49)   \rUnpacking objects:  53% (26/49)   \rUnpacking objects:  55% (27/49)   \rUnpacking objects:  57% (28/49)   \rremote: Total 49 (delta 23), reused 8 (delta 2), pack-reused 0\u001b[K\n",
            "Unpacking objects:  59% (29/49)   \rUnpacking objects:  61% (30/49)   \rUnpacking objects:  63% (31/49)   \rUnpacking objects:  65% (32/49)   \rUnpacking objects:  67% (33/49)   \rUnpacking objects:  69% (34/49)   \rUnpacking objects:  71% (35/49)   \rUnpacking objects:  73% (36/49)   \rUnpacking objects:  75% (37/49)   \rUnpacking objects:  77% (38/49)   \rUnpacking objects:  79% (39/49)   \rUnpacking objects:  81% (40/49)   \rUnpacking objects:  83% (41/49)   \rUnpacking objects:  85% (42/49)   \rUnpacking objects:  87% (43/49)   \rUnpacking objects:  89% (44/49)   \rUnpacking objects:  91% (45/49)   \rUnpacking objects:  93% (46/49)   \rUnpacking objects:  95% (47/49)   \rUnpacking objects:  97% (48/49)   \rUnpacking objects: 100% (49/49)   \rUnpacking objects: 100% (49/49), done.\n"
          ],
          "name": "stdout"
        }
      ]
    },
    {
      "metadata": {
        "id": "JSe2VOJVcQ3d",
        "colab_type": "text"
      },
      "cell_type": "markdown",
      "source": [
        "## Environment Variables"
      ]
    },
    {
      "metadata": {
        "id": "csrDnAQMdg9z",
        "colab_type": "code",
        "colab": {}
      },
      "cell_type": "code",
      "source": [
        "import os\n",
        "\n",
        "os.environ['ROOT_DIR'] = os.getcwd()\n",
        "os.environ['IMAGE_DIR'] = os.path.join(os.environ['ROOT_DIR'], 'images')\n",
        "os.environ['DATA_DIR'] = os.path.join(os.environ['ROOT_DIR'], 'data')\n",
        "os.environ['TRAIN_DIR'] = os.path.join(os.environ['ROOT_DIR'], 'train')\n",
        "\n",
        "os.environ['PILL_DETECTION_DIR'] = os.path.join(os.environ['ROOT_DIR'],\n",
        "                                                'pill-detection')\n",
        "os.environ['ORIGIN_IMAGE_DIR'] = os.path.join(os.environ['PILL_DETECTION_DIR'],\n",
        "                                              'images')"
      ],
      "execution_count": 0,
      "outputs": []
    },
    {
      "metadata": {
        "id": "NP78U5gWWdqG",
        "colab_type": "code",
        "colab": {}
      },
      "cell_type": "code",
      "source": [
        "!mkdir ${IMAGE_DIR}\n",
        "!mkdir ${DATA_DIR}\n",
        "!mkdir ${TRAIN_DIR}"
      ],
      "execution_count": 0,
      "outputs": []
    },
    {
      "metadata": {
        "id": "NCZpe58Hf0SE",
        "colab_type": "text"
      },
      "cell_type": "markdown",
      "source": [
        "## Download Pre-Trained Model"
      ]
    },
    {
      "metadata": {
        "id": "xmJy-EeIf1xh",
        "colab_type": "code",
        "colab": {
          "base_uri": "https://localhost:8080/",
          "height": 204
        },
        "outputId": "776404f4-07d0-4ea8-8d2a-b590d88a926d"
      },
      "cell_type": "code",
      "source": [
        "!wget http://download.tensorflow.org/models/object_detection/ssdlite_mobilenet_v2_coco_2018_05_09.tar.gz"
      ],
      "execution_count": 8,
      "outputs": [
        {
          "output_type": "stream",
          "text": [
            "--2018-11-18 02:53:51--  http://download.tensorflow.org/models/object_detection/ssdlite_mobilenet_v2_coco_2018_05_09.tar.gz\n",
            "Resolving download.tensorflow.org (download.tensorflow.org)... 74.125.135.128, 2607:f8b0:400e:c07::80\n",
            "Connecting to download.tensorflow.org (download.tensorflow.org)|74.125.135.128|:80... connected.\n",
            "HTTP request sent, awaiting response... 200 OK\n",
            "Length: 51025348 (49M) [application/x-tar]\n",
            "Saving to: ‘ssdlite_mobilenet_v2_coco_2018_05_09.tar.gz’\n",
            "\n",
            "ssdlite_mobilenet_v 100%[===================>]  48.66M  56.9MB/s    in 0.9s    \n",
            "\n",
            "2018-11-18 02:53:52 (56.9 MB/s) - ‘ssdlite_mobilenet_v2_coco_2018_05_09.tar.gz’ saved [51025348/51025348]\n",
            "\n"
          ],
          "name": "stdout"
        }
      ]
    },
    {
      "metadata": {
        "id": "g_js_OMUf9NX",
        "colab_type": "code",
        "colab": {
          "base_uri": "https://localhost:8080/",
          "height": 218
        },
        "outputId": "74b31750-9c99-4d3b-a240-7ff3a9bb2cce"
      },
      "cell_type": "code",
      "source": [
        "!tar xfv ssdlite_mobilenet_v2_coco_2018_05_09.tar.gz\n",
        "!mv ssdlite_mobilenet_v2_coco_2018_05_09/model.ckpt* ${DATA_DIR}"
      ],
      "execution_count": 9,
      "outputs": [
        {
          "output_type": "stream",
          "text": [
            "ssdlite_mobilenet_v2_coco_2018_05_09/checkpoint\n",
            "ssdlite_mobilenet_v2_coco_2018_05_09/model.ckpt.data-00000-of-00001\n",
            "ssdlite_mobilenet_v2_coco_2018_05_09/model.ckpt.meta\n",
            "ssdlite_mobilenet_v2_coco_2018_05_09/model.ckpt.index\n",
            "ssdlite_mobilenet_v2_coco_2018_05_09/saved_model/saved_model.pb\n",
            "ssdlite_mobilenet_v2_coco_2018_05_09/pipeline.config\n",
            "ssdlite_mobilenet_v2_coco_2018_05_09/frozen_inference_graph.pb\n",
            "ssdlite_mobilenet_v2_coco_2018_05_09/\n",
            "ssdlite_mobilenet_v2_coco_2018_05_09/saved_model/variables/\n",
            "ssdlite_mobilenet_v2_coco_2018_05_09/saved_model/\n"
          ],
          "name": "stdout"
        }
      ]
    },
    {
      "metadata": {
        "id": "0dFqvYn8c7ec",
        "colab_type": "text"
      },
      "cell_type": "markdown",
      "source": [
        "## Install Tensorflow Object Detection API"
      ]
    },
    {
      "metadata": {
        "id": "vtPwE_nYlmbh",
        "colab_type": "code",
        "colab": {
          "base_uri": "https://localhost:8080/",
          "height": 184
        },
        "outputId": "a37b61be-0843-43f1-b777-e073245c9a00"
      },
      "cell_type": "code",
      "source": [
        "!git clone https://github.com/tensorflow/models.git"
      ],
      "execution_count": 10,
      "outputs": [
        {
          "output_type": "stream",
          "text": [
            "Cloning into 'models'...\n",
            "remote: Enumerating objects: 2, done.\u001b[K\n",
            "remote: Counting objects:  50% (1/2)   \u001b[K\rremote: Counting objects: 100% (2/2)   \u001b[K\rremote: Counting objects: 100% (2/2), done.\u001b[K\n",
            "remote: Compressing objects: 100% (2/2), done.\u001b[K\n",
            "remote: Total 22623 (delta 0), reused 0 (delta 0), pack-reused 22621\u001b[K\n",
            "Receiving objects: 100% (22623/22623), 562.68 MiB | 28.35 MiB/s, done.\n",
            "Resolving deltas: 100% (13164/13164), done.\n",
            "Checking out files: 100% (2836/2836), done.\n"
          ],
          "name": "stdout"
        }
      ]
    },
    {
      "metadata": {
        "id": "hzPfXzRtdQBf",
        "colab_type": "code",
        "colab": {
          "base_uri": "https://localhost:8080/",
          "height": 1737
        },
        "outputId": "a9314184-d898-4642-93f8-8e2f8b8d5219"
      },
      "cell_type": "code",
      "source": [
        "!pip install Cython\n",
        "!apt-get install protobuf-compiler\n",
        "!git clone https://github.com/cocodataset/cocoapi.git\n",
        "!cd cocoapi/PythonAPI; make; cp -r pycocotools ${ROOT_DIR}/models/research/"
      ],
      "execution_count": 11,
      "outputs": [
        {
          "output_type": "stream",
          "text": [
            "Collecting Cython\n",
            "\u001b[?25l  Downloading https://files.pythonhosted.org/packages/85/29/ccdbce68ba5fb97fd11c08e3cc79576f13e6e300d32a7953cd4c878c0996/Cython-0.29-cp27-cp27mu-manylinux1_x86_64.whl (2.0MB)\n",
            "\u001b[K    100% |████████████████████████████████| 2.0MB 8.9MB/s \n",
            "\u001b[?25hInstalling collected packages: Cython\n",
            "Successfully installed Cython-0.29\n",
            "Reading package lists... Done\n",
            "Building dependency tree       \n",
            "Reading state information... Done\n",
            "The following additional packages will be installed:\n",
            "  libprotobuf10 libprotoc10\n",
            "The following NEW packages will be installed:\n",
            "  libprotobuf10 libprotoc10 protobuf-compiler\n",
            "0 upgraded, 3 newly installed, 0 to remove and 5 not upgraded.\n",
            "Need to get 1,242 kB of archives.\n",
            "After this operation, 4,942 kB of additional disk space will be used.\n",
            "Get:1 http://archive.ubuntu.com/ubuntu bionic/main amd64 libprotobuf10 amd64 3.0.0-9.1ubuntu1 [651 kB]\n",
            "Get:2 http://archive.ubuntu.com/ubuntu bionic/main amd64 libprotoc10 amd64 3.0.0-9.1ubuntu1 [566 kB]\n",
            "Get:3 http://archive.ubuntu.com/ubuntu bionic/universe amd64 protobuf-compiler amd64 3.0.0-9.1ubuntu1 [24.5 kB]\n",
            "Fetched 1,242 kB in 2s (657 kB/s)\n",
            "Selecting previously unselected package libprotobuf10:amd64.\n",
            "(Reading database ... 22280 files and directories currently installed.)\n",
            "Preparing to unpack .../libprotobuf10_3.0.0-9.1ubuntu1_amd64.deb ...\n",
            "Unpacking libprotobuf10:amd64 (3.0.0-9.1ubuntu1) ...\n",
            "Selecting previously unselected package libprotoc10:amd64.\n",
            "Preparing to unpack .../libprotoc10_3.0.0-9.1ubuntu1_amd64.deb ...\n",
            "Unpacking libprotoc10:amd64 (3.0.0-9.1ubuntu1) ...\n",
            "Selecting previously unselected package protobuf-compiler.\n",
            "Preparing to unpack .../protobuf-compiler_3.0.0-9.1ubuntu1_amd64.deb ...\n",
            "Unpacking protobuf-compiler (3.0.0-9.1ubuntu1) ...\n",
            "Setting up libprotobuf10:amd64 (3.0.0-9.1ubuntu1) ...\n",
            "Processing triggers for libc-bin (2.27-3ubuntu1) ...\n",
            "Setting up libprotoc10:amd64 (3.0.0-9.1ubuntu1) ...\n",
            "Setting up protobuf-compiler (3.0.0-9.1ubuntu1) ...\n",
            "Processing triggers for libc-bin (2.27-3ubuntu1) ...\n",
            "Cloning into 'cocoapi'...\n",
            "remote: Enumerating objects: 947, done.\u001b[K\n",
            "remote: Total 947 (delta 0), reused 0 (delta 0), pack-reused 947\u001b[K\n",
            "Receiving objects: 100% (947/947), 11.69 MiB | 24.67 MiB/s, done.\n",
            "Resolving deltas: 100% (565/565), done.\n",
            "python setup.py build_ext --inplace\n",
            "running build_ext\n",
            "cythoning pycocotools/_mask.pyx to pycocotools/_mask.c\n",
            "/usr/local/lib/python2.7/dist-packages/Cython/Compiler/Main.py:367: FutureWarning: Cython directive 'language_level' not set, using 2 for now (Py2). This will change in a later release! File: /content/cocoapi/PythonAPI/pycocotools/_mask.pyx\n",
            "  tree = Parsing.p_module(s, pxd, full_module_name)\n",
            "building 'pycocotools._mask' extension\n",
            "creating build\n",
            "creating build/common\n",
            "creating build/temp.linux-x86_64-2.7\n",
            "creating build/temp.linux-x86_64-2.7/pycocotools\n",
            "x86_64-linux-gnu-gcc -pthread -DNDEBUG -g -fwrapv -O2 -Wall -Wstrict-prototypes -fno-strict-aliasing -Wdate-time -D_FORTIFY_SOURCE=2 -g -fdebug-prefix-map=/build/python2.7-3hk45v/python2.7-2.7.15~rc1=. -fstack-protector-strong -Wformat -Werror=format-security -fPIC -I/usr/local/lib/python2.7/dist-packages/numpy/core/include -I../common -I/usr/include/python2.7 -c ../common/maskApi.c -o build/temp.linux-x86_64-2.7/../common/maskApi.o -Wno-cpp -Wno-unused-function -std=c99\n",
            "\u001b[01m\u001b[K../common/maskApi.c:\u001b[m\u001b[K In function ‘\u001b[01m\u001b[KrleDecode\u001b[m\u001b[K’:\n",
            "\u001b[01m\u001b[K../common/maskApi.c:46:7:\u001b[m\u001b[K \u001b[01;35m\u001b[Kwarning: \u001b[m\u001b[Kthis ‘\u001b[01m\u001b[Kfor\u001b[m\u001b[K’ clause does not guard... [\u001b[01;35m\u001b[K-Wmisleading-indentation\u001b[m\u001b[K]\n",
            "       \u001b[01;35m\u001b[Kfor\u001b[m\u001b[K( k=0; k<R[i].cnts[j]; k++ ) *(M++)=v; v=!v; }}\n",
            "       \u001b[01;35m\u001b[K^~~\u001b[m\u001b[K\n",
            "\u001b[01m\u001b[K../common/maskApi.c:46:49:\u001b[m\u001b[K \u001b[01;36m\u001b[Knote: \u001b[m\u001b[K...this statement, but the latter is misleadingly indented as if it were guarded by the ‘\u001b[01m\u001b[Kfor\u001b[m\u001b[K’\n",
            "       for( k=0; k<R[i].cnts[j]; k++ ) *(M++)=v; \u001b[01;36m\u001b[Kv\u001b[m\u001b[K=!v; }}\n",
            "                                                 \u001b[01;36m\u001b[K^\u001b[m\u001b[K\n",
            "\u001b[01m\u001b[K../common/maskApi.c:\u001b[m\u001b[K In function ‘\u001b[01m\u001b[KrleFrPoly\u001b[m\u001b[K’:\n",
            "\u001b[01m\u001b[K../common/maskApi.c:166:3:\u001b[m\u001b[K \u001b[01;35m\u001b[Kwarning: \u001b[m\u001b[Kthis ‘\u001b[01m\u001b[Kfor\u001b[m\u001b[K’ clause does not guard... [\u001b[01;35m\u001b[K-Wmisleading-indentation\u001b[m\u001b[K]\n",
            "   \u001b[01;35m\u001b[Kfor\u001b[m\u001b[K(j=0; j<k; j++) x[j]=(int)(scale*xy[j*2+0]+.5); x[k]=x[0];\n",
            "   \u001b[01;35m\u001b[K^~~\u001b[m\u001b[K\n",
            "\u001b[01m\u001b[K../common/maskApi.c:166:54:\u001b[m\u001b[K \u001b[01;36m\u001b[Knote: \u001b[m\u001b[K...this statement, but the latter is misleadingly indented as if it were guarded by the ‘\u001b[01m\u001b[Kfor\u001b[m\u001b[K’\n",
            "   for(j=0; j<k; j++) x[j]=(int)(scale*xy[j*2+0]+.5); \u001b[01;36m\u001b[Kx\u001b[m\u001b[K[k]=x[0];\n",
            "                                                      \u001b[01;36m\u001b[K^\u001b[m\u001b[K\n",
            "\u001b[01m\u001b[K../common/maskApi.c:167:3:\u001b[m\u001b[K \u001b[01;35m\u001b[Kwarning: \u001b[m\u001b[Kthis ‘\u001b[01m\u001b[Kfor\u001b[m\u001b[K’ clause does not guard... [\u001b[01;35m\u001b[K-Wmisleading-indentation\u001b[m\u001b[K]\n",
            "   \u001b[01;35m\u001b[Kfor\u001b[m\u001b[K(j=0; j<k; j++) y[j]=(int)(scale*xy[j*2+1]+.5); y[k]=y[0];\n",
            "   \u001b[01;35m\u001b[K^~~\u001b[m\u001b[K\n",
            "\u001b[01m\u001b[K../common/maskApi.c:167:54:\u001b[m\u001b[K \u001b[01;36m\u001b[Knote: \u001b[m\u001b[K...this statement, but the latter is misleadingly indented as if it were guarded by the ‘\u001b[01m\u001b[Kfor\u001b[m\u001b[K’\n",
            "   for(j=0; j<k; j++) y[j]=(int)(scale*xy[j*2+1]+.5); \u001b[01;36m\u001b[Ky\u001b[m\u001b[K[k]=y[0];\n",
            "                                                      \u001b[01;36m\u001b[K^\u001b[m\u001b[K\n",
            "\u001b[01m\u001b[K../common/maskApi.c:\u001b[m\u001b[K In function ‘\u001b[01m\u001b[KrleToString\u001b[m\u001b[K’:\n",
            "\u001b[01m\u001b[K../common/maskApi.c:212:7:\u001b[m\u001b[K \u001b[01;35m\u001b[Kwarning: \u001b[m\u001b[Kthis ‘\u001b[01m\u001b[Kif\u001b[m\u001b[K’ clause does not guard... [\u001b[01;35m\u001b[K-Wmisleading-indentation\u001b[m\u001b[K]\n",
            "       \u001b[01;35m\u001b[Kif\u001b[m\u001b[K(more) c |= 0x20; c+=48; s[p++]=c;\n",
            "       \u001b[01;35m\u001b[K^~\u001b[m\u001b[K\n",
            "\u001b[01m\u001b[K../common/maskApi.c:212:27:\u001b[m\u001b[K \u001b[01;36m\u001b[Knote: \u001b[m\u001b[K...this statement, but the latter is misleadingly indented as if it were guarded by the ‘\u001b[01m\u001b[Kif\u001b[m\u001b[K’\n",
            "       if(more) c |= 0x20; \u001b[01;36m\u001b[Kc\u001b[m\u001b[K+=48; s[p++]=c;\n",
            "                           \u001b[01;36m\u001b[K^\u001b[m\u001b[K\n",
            "\u001b[01m\u001b[K../common/maskApi.c:\u001b[m\u001b[K In function ‘\u001b[01m\u001b[KrleFrString\u001b[m\u001b[K’:\n",
            "\u001b[01m\u001b[K../common/maskApi.c:220:3:\u001b[m\u001b[K \u001b[01;35m\u001b[Kwarning: \u001b[m\u001b[Kthis ‘\u001b[01m\u001b[Kwhile\u001b[m\u001b[K’ clause does not guard... [\u001b[01;35m\u001b[K-Wmisleading-indentation\u001b[m\u001b[K]\n",
            "   \u001b[01;35m\u001b[Kwhile\u001b[m\u001b[K( s[m] ) m++; cnts=malloc(sizeof(uint)*m); m=0;\n",
            "   \u001b[01;35m\u001b[K^~~~~\u001b[m\u001b[K\n",
            "\u001b[01m\u001b[K../common/maskApi.c:220:22:\u001b[m\u001b[K \u001b[01;36m\u001b[Knote: \u001b[m\u001b[K...this statement, but the latter is misleadingly indented as if it were guarded by the ‘\u001b[01m\u001b[Kwhile\u001b[m\u001b[K’\n",
            "   while( s[m] ) m++; \u001b[01;36m\u001b[Kcnts\u001b[m\u001b[K=malloc(sizeof(uint)*m); m=0;\n",
            "                      \u001b[01;36m\u001b[K^~~~\u001b[m\u001b[K\n",
            "\u001b[01m\u001b[K../common/maskApi.c:228:5:\u001b[m\u001b[K \u001b[01;35m\u001b[Kwarning: \u001b[m\u001b[Kthis ‘\u001b[01m\u001b[Kif\u001b[m\u001b[K’ clause does not guard... [\u001b[01;35m\u001b[K-Wmisleading-indentation\u001b[m\u001b[K]\n",
            "     \u001b[01;35m\u001b[Kif\u001b[m\u001b[K(m>2) x+=(long) cnts[m-2]; cnts[m++]=(uint) x;\n",
            "     \u001b[01;35m\u001b[K^~\u001b[m\u001b[K\n",
            "\u001b[01m\u001b[K../common/maskApi.c:228:34:\u001b[m\u001b[K \u001b[01;36m\u001b[Knote: \u001b[m\u001b[K...this statement, but the latter is misleadingly indented as if it were guarded by the ‘\u001b[01m\u001b[Kif\u001b[m\u001b[K’\n",
            "     if(m>2) x+=(long) cnts[m-2]; \u001b[01;36m\u001b[Kcnts\u001b[m\u001b[K[m++]=(uint) x;\n",
            "                                  \u001b[01;36m\u001b[K^~~~\u001b[m\u001b[K\n",
            "\u001b[01m\u001b[K../common/maskApi.c:\u001b[m\u001b[K In function ‘\u001b[01m\u001b[KrleToBbox\u001b[m\u001b[K’:\n",
            "\u001b[01m\u001b[K../common/maskApi.c:141:31:\u001b[m\u001b[K \u001b[01;35m\u001b[Kwarning: \u001b[m\u001b[K‘\u001b[01m\u001b[Kxp\u001b[m\u001b[K’ may be used uninitialized in this function [\u001b[01;35m\u001b[K-Wmaybe-uninitialized\u001b[m\u001b[K]\n",
            "       if(j%2==0) xp=x; else if\u001b[01;35m\u001b[K(\u001b[m\u001b[Kxp<x) { ys=0; ye=h-1; }\n",
            "                               \u001b[01;35m\u001b[K^\u001b[m\u001b[K\n",
            "x86_64-linux-gnu-gcc -pthread -DNDEBUG -g -fwrapv -O2 -Wall -Wstrict-prototypes -fno-strict-aliasing -Wdate-time -D_FORTIFY_SOURCE=2 -g -fdebug-prefix-map=/build/python2.7-3hk45v/python2.7-2.7.15~rc1=. -fstack-protector-strong -Wformat -Werror=format-security -fPIC -I/usr/local/lib/python2.7/dist-packages/numpy/core/include -I../common -I/usr/include/python2.7 -c pycocotools/_mask.c -o build/temp.linux-x86_64-2.7/pycocotools/_mask.o -Wno-cpp -Wno-unused-function -std=c99\n",
            "creating build/lib.linux-x86_64-2.7\n",
            "creating build/lib.linux-x86_64-2.7/pycocotools\n",
            "x86_64-linux-gnu-gcc -pthread -shared -Wl,-O1 -Wl,-Bsymbolic-functions -Wl,-Bsymbolic-functions -Wl,-z,relro -fno-strict-aliasing -DNDEBUG -g -fwrapv -O2 -Wall -Wstrict-prototypes -Wdate-time -D_FORTIFY_SOURCE=2 -g -fdebug-prefix-map=/build/python2.7-3hk45v/python2.7-2.7.15~rc1=. -fstack-protector-strong -Wformat -Werror=format-security -Wl,-Bsymbolic-functions -Wl,-z,relro -Wdate-time -D_FORTIFY_SOURCE=2 -g -fdebug-prefix-map=/build/python2.7-3hk45v/python2.7-2.7.15~rc1=. -fstack-protector-strong -Wformat -Werror=format-security build/temp.linux-x86_64-2.7/../common/maskApi.o build/temp.linux-x86_64-2.7/pycocotools/_mask.o -o build/lib.linux-x86_64-2.7/pycocotools/_mask.so\n",
            "copying build/lib.linux-x86_64-2.7/pycocotools/_mask.so -> pycocotools\n",
            "rm -rf build\n"
          ],
          "name": "stdout"
        }
      ]
    },
    {
      "metadata": {
        "id": "20VhgT8adeBI",
        "colab_type": "code",
        "colab": {
          "base_uri": "https://localhost:8080/",
          "height": 82
        },
        "outputId": "c86f9dc5-c20d-490b-a515-1ac3effb6c5a"
      },
      "cell_type": "code",
      "source": [
        "%env PYTHONPATH=/content/models/research:/content/models/research/slim\n",
        "%cd /content/models/research\n",
        "!protoc object_detection/protos/*.proto --python_out=."
      ],
      "execution_count": 12,
      "outputs": [
        {
          "output_type": "stream",
          "text": [
            "env: PYTHONPATH=/content/models/research:/content/models/research/slim\n",
            "/content/models/research\n"
          ],
          "name": "stdout"
        }
      ]
    },
    {
      "metadata": {
        "id": "p3y6Mhopdoou",
        "colab_type": "text"
      },
      "cell_type": "markdown",
      "source": [
        "## Test Tensorflow Object Detection API"
      ]
    },
    {
      "metadata": {
        "id": "mconAYS4dtsW",
        "colab_type": "code",
        "colab": {
          "base_uri": "https://localhost:8080/",
          "height": 133
        },
        "outputId": "35a51004-07c8-4805-c44f-fbaa566c46dc"
      },
      "cell_type": "code",
      "source": [
        "!python object_detection/builders/model_builder_test.py"
      ],
      "execution_count": 13,
      "outputs": [
        {
          "output_type": "stream",
          "text": [
            "......................\n",
            "----------------------------------------------------------------------\n",
            "Ran 22 tests in 0.118s\n",
            "\n",
            "OK\n"
          ],
          "name": "stdout"
        }
      ]
    },
    {
      "metadata": {
        "id": "pRhok8UbPnNO",
        "colab_type": "text"
      },
      "cell_type": "markdown",
      "source": [
        "# Prepare Images"
      ]
    },
    {
      "metadata": {
        "id": "4Qn4kLIWQ5G9",
        "colab_type": "code",
        "colab": {}
      },
      "cell_type": "code",
      "source": [
        "from PIL import Image\n",
        "from random import randint\n",
        "import matplotlib.pyplot as plt\n",
        "\n",
        "image_width = 300\n",
        "image_height = 300\n",
        "\n",
        "def generate_images(name):\n",
        "  for index in xrange(1, 101):\n",
        "    image = Image.new('RGB', (image_width, image_height), '#000')\n",
        "    image_path = os.path.join(os.environ['ORIGIN_IMAGE_DIR'], name + '.png')\n",
        "    pill_image = Image.open(image_path)\n",
        "    rotated_image = pill_image.rotate(randint(0, 359), expand=True)\n",
        "    x = randint(0, image_width - rotated_image.size[0])\n",
        "    y = randint(0, image_height - rotated_image.size[1])\n",
        "    image.paste(rotated_image, (x, y))\n",
        "    save_path = os.path.join(os.environ['IMAGE_DIR'], \n",
        "                             name + '_' + str(index) + '.png')\n",
        "    image.save(save_path)"
      ],
      "execution_count": 0,
      "outputs": []
    },
    {
      "metadata": {
        "id": "9hRJeWiltS7N",
        "colab_type": "code",
        "colab": {}
      },
      "cell_type": "code",
      "source": [
        "labels = ['325', '500']\n",
        "for label in labels:\n",
        "  generate_images(label)"
      ],
      "execution_count": 0,
      "outputs": []
    },
    {
      "metadata": {
        "id": "KPGoOfrtqfbq",
        "colab_type": "code",
        "colab": {}
      },
      "cell_type": "code",
      "source": [
        "import cv2\n",
        "\n",
        "def boundingRect(image):\n",
        "  image_bw = cv2.cvtColor(image, cv2.COLOR_BGR2GRAY)\n",
        "  _, image_bw = cv2.threshold(image_bw, 1, 255, cv2.THRESH_BINARY)\n",
        "  _, contours, _ = cv2.findContours(image_bw,\n",
        "                                    cv2.RETR_TREE, cv2.CHAIN_APPROX_SIMPLE)\n",
        "\n",
        "  max_area = 0\n",
        "  x, y, w, h = 0, 0, 0, 0\n",
        "  for cnt in contours:\n",
        "    area = cv2.contourArea(cnt)\n",
        "    if area > max_area:\n",
        "      max_area = area\n",
        "      x, y, w, h = cv2.boundingRect(cnt)\n",
        "  return (x, y, w, h)"
      ],
      "execution_count": 0,
      "outputs": []
    },
    {
      "metadata": {
        "id": "zbRkJnn4XsfF",
        "colab_type": "code",
        "outputId": "d5660db6-0250-4d7c-f51f-352972fd4dc3",
        "colab": {
          "base_uri": "https://localhost:8080/",
          "height": 367
        }
      },
      "cell_type": "code",
      "source": [
        "image_path = os.path.join(os.environ['IMAGE_DIR'], '325_31.png')\n",
        "image = cv2.imread(image_path)\n",
        "x, y, w, h = boundingRect(image)\n",
        "cv2.rectangle(image, (x, y), (x + w, y + h), (0, 255, 0), 1)\n",
        "plt.imshow(image)"
      ],
      "execution_count": 17,
      "outputs": [
        {
          "output_type": "execute_result",
          "data": {
            "text/plain": [
              "<matplotlib.image.AxesImage at 0x7f808c864c50>"
            ]
          },
          "metadata": {
            "tags": []
          },
          "execution_count": 17
        },
        {
          "output_type": "display_data",
          "data": {
            "image/png": "[encoded data removed]",
            "text/plain": [
              "<matplotlib.figure.Figure at 0x7f808c7e7c50>"
            ]
          },
          "metadata": {
            "tags": []
          }
        }
      ]
    },
    {
      "metadata": {
        "id": "tagZ3kRBgh97",
        "colab_type": "text"
      },
      "cell_type": "markdown",
      "source": [
        "# Prepare Data"
      ]
    },
    {
      "metadata": {
        "id": "boXTaolbgkLQ",
        "colab_type": "text"
      },
      "cell_type": "markdown",
      "source": [
        "## Create Label Map"
      ]
    },
    {
      "metadata": {
        "id": "_5w-_EYEhWax",
        "colab_type": "code",
        "colab": {}
      },
      "cell_type": "code",
      "source": [
        "file_path = os.path.join(os.environ['DATA_DIR'], 'label_map.pbtxt')\n",
        "with open(file_path, 'w') as f:\n",
        "  for label in labels:\n",
        "    f.write(\"item {\\n  id: 1\\n  name: '\" + label + \"'\\n}\\n\\n\")"
      ],
      "execution_count": 0,
      "outputs": []
    },
    {
      "metadata": {
        "id": "EGTVd28-xsW1",
        "colab_type": "text"
      },
      "cell_type": "markdown",
      "source": [
        "## Generate TF Record"
      ]
    },
    {
      "metadata": {
        "id": "38gZ26RAiVjZ",
        "colab_type": "code",
        "colab": {}
      },
      "cell_type": "code",
      "source": [
        "import tensorflow as tf\n",
        "from object_detection.utils import dataset_util\n",
        "\n",
        "\n",
        "def generate_tf_record(record_path, start, size):\n",
        "  writer = tf.python_io.TFRecordWriter(record_path)\n",
        "  label_index = 1\n",
        "  for label in labels:\n",
        "    for index in xrange(start, start + size):\n",
        "      filename = os.path.join(os.environ['IMAGE_DIR'],\n",
        "                              label + '_' + str(index) + '.png')\n",
        "      image = cv2.imread(filename)\n",
        "      x, y, w, h = boundingRect(image)\n",
        "    \n",
        "      image_format = b'png'\n",
        "      with tf.gfile.GFile(filename, 'rb') as fid:\n",
        "        encoded_png = fid.read()\n",
        "      \n",
        "      xmin = float(x) / image_width\n",
        "      ymin = float(y) / image_height\n",
        "      xmax = float(x + w - 1) / image_width\n",
        "      ymax = float(y + h - 1) / image_height\n",
        "      \n",
        "      tf_example = tf.train.Example(features=tf.train.Features(feature={\n",
        "          'image/height': dataset_util.int64_feature(image_width),\n",
        "          'image/width': dataset_util.int64_feature(image_height),\n",
        "          'image/filename': dataset_util.bytes_feature(filename),\n",
        "          'image/source_id': dataset_util.bytes_feature(filename),\n",
        "          'image/encoded': dataset_util.bytes_feature(encoded_png),\n",
        "          'image/format': dataset_util.bytes_feature(image_format),\n",
        "          'image/object/bbox/xmin': dataset_util.float_list_feature([xmin]),\n",
        "          'image/object/bbox/xmax': dataset_util.float_list_feature([xmax]),\n",
        "          'image/object/bbox/ymin': dataset_util.float_list_feature([ymin]),\n",
        "          'image/object/bbox/ymax': dataset_util.float_list_feature([ymax]),\n",
        "          'image/object/class/text': dataset_util.bytes_list_feature(\n",
        "              [label]),\n",
        "          'image/object/class/label': dataset_util.int64_list_feature(\n",
        "              [label_index]),\n",
        "      }))\n",
        "      writer.write(tf_example.SerializeToString())\n",
        "    label_index += 1\n",
        "  writer.close()"
      ],
      "execution_count": 0,
      "outputs": []
    },
    {
      "metadata": {
        "id": "ySdTzDtsvJ5O",
        "colab_type": "code",
        "colab": {}
      },
      "cell_type": "code",
      "source": [
        "train_record = os.path.join(os.environ['DATA_DIR'], 'train.record')\n",
        "generate_tf_record(train_record, 1, 70)\n",
        "test_record = os.path.join(os.environ['DATA_DIR'], 'test.record')\n",
        "generate_tf_record(test_record, 71, 30)"
      ],
      "execution_count": 0,
      "outputs": []
    },
    {
      "metadata": {
        "id": "AzolLgIkxv9U",
        "colab_type": "text"
      },
      "cell_type": "markdown",
      "source": [
        "## Create Config file"
      ]
    },
    {
      "metadata": {
        "id": "Xdmkq6Dgx1DD",
        "colab_type": "code",
        "colab": {}
      },
      "cell_type": "code",
      "source": [
        "!cp object_detection/samples/configs/ssdlite_mobilenet_v2_coco.config ${DATA_DIR}\n",
        "!sed -i \"s|PATH_TO_BE_CONFIGURED|${DATA_DIR}|g\" ${DATA_DIR}/ssdlite_mobilenet_v2_coco.config\n",
        "!sed -i \"s|mscoco_label_map.pbtxt|label_map.pbtxt|g\" ${DATA_DIR}/ssdlite_mobilenet_v2_coco.config\n",
        "!sed -i \"s|mscoco_train.record-?????-of-00100|train.record|g\" ${DATA_DIR}/ssdlite_mobilenet_v2_coco.config\n",
        "!sed -i \"s|mscoco_val.record-?????-of-00010|test.record|g\" ${DATA_DIR}/ssdlite_mobilenet_v2_coco.config"
      ],
      "execution_count": 0,
      "outputs": []
    },
    {
      "metadata": {
        "id": "_oB-fyc5zDsg",
        "colab_type": "text"
      },
      "cell_type": "markdown",
      "source": [
        "# Train"
      ]
    },
    {
      "metadata": {
        "id": "a7mPBqVTzFnN",
        "colab_type": "code",
        "colab": {}
      },
      "cell_type": "code",
      "source": [
        "get_ipython().system_raw('python object_detection/model_main.py \\\n",
        "    --pipeline_config_path=${DATA_DIR}/ssdlite_mobilenet_v2_coco.config \\\n",
        "    --model_dir=${TRAIN_DIR} \\\n",
        "    --num_train_steps=3000 \\\n",
        "    --sample_1_of_n_eval_examples=1 \\\n",
        "    --alsologtostderr &')"
      ],
      "execution_count": 0,
      "outputs": []
    },
    {
      "metadata": {
        "id": "X7EMKcQS9NbI",
        "colab_type": "text"
      },
      "cell_type": "markdown",
      "source": [
        "# TensorBoard"
      ]
    },
    {
      "metadata": {
        "id": "c3F3LWrz9PyJ",
        "colab_type": "code",
        "outputId": "0b1584a9-7855-4924-9cb2-490d24c38cab",
        "colab": {
          "base_uri": "https://localhost:8080/",
          "height": 269
        }
      },
      "cell_type": "code",
      "source": [
        "! wget https://bin.equinox.io/c/4VmDzA7iaHb/ngrok-stable-linux-amd64.zip\n",
        "! unzip ngrok-stable-linux-amd64.zip"
      ],
      "execution_count": 29,
      "outputs": [
        {
          "output_type": "stream",
          "text": [
            "--2018-11-18 02:59:52--  https://bin.equinox.io/c/4VmDzA7iaHb/ngrok-stable-linux-amd64.zip\n",
            "Resolving bin.equinox.io (bin.equinox.io)... 34.232.181.106, 34.235.97.255, 34.238.3.58, ...\n",
            "Connecting to bin.equinox.io (bin.equinox.io)|34.232.181.106|:443... connected.\n",
            "HTTP request sent, awaiting response... 200 OK\n",
            "Length: 5363700 (5.1M) [application/octet-stream]\n",
            "Saving to: ‘ngrok-stable-linux-amd64.zip’\n",
            "\n",
            "ngrok-stable-linux- 100%[===================>]   5.11M  8.20MB/s    in 0.6s    \n",
            "\n",
            "2018-11-18 02:59:53 (8.20 MB/s) - ‘ngrok-stable-linux-amd64.zip’ saved [5363700/5363700]\n",
            "\n",
            "Archive:  ngrok-stable-linux-amd64.zip\n",
            "  inflating: ngrok                   \n"
          ],
          "name": "stdout"
        }
      ]
    },
    {
      "metadata": {
        "id": "Dgy_iZsq9dAO",
        "colab_type": "code",
        "colab": {}
      },
      "cell_type": "code",
      "source": [
        "get_ipython().system_raw('tensorboard --logdir ${ROOT_DIR} --host 0.0.0.0 --port 6006 &')"
      ],
      "execution_count": 0,
      "outputs": []
    },
    {
      "metadata": {
        "id": "YubBPT5W9mR2",
        "colab_type": "code",
        "colab": {}
      },
      "cell_type": "code",
      "source": [
        "get_ipython().system_raw('./ngrok http 6006 &')"
      ],
      "execution_count": 0,
      "outputs": []
    },
    {
      "metadata": {
        "id": "lpXvqF6H9qph",
        "colab_type": "code",
        "outputId": "6e15740d-dbba-4216-ee2e-50f8e52b65fc",
        "colab": {
          "base_uri": "https://localhost:8080/",
          "height": 65
        }
      },
      "cell_type": "code",
      "source": [
        "!curl -s http://localhost:4040/api/tunnels | python3 -c \\\n",
        " \"import sys, json; print(json.load(sys.stdin)['tunnels'][0]['public_url'])\""
      ],
      "execution_count": 32,
      "outputs": [
        {
          "output_type": "stream",
          "text": [
            "http://a2d682ff.ngrok.io\n"
          ],
          "name": "stdout"
        }
      ]
    },
    {
      "metadata": {
        "id": "BLy0huKXcKoO",
        "colab_type": "text"
      },
      "cell_type": "markdown",
      "source": [
        "# Status"
      ]
    },
    {
      "metadata": {
        "id": "sQZOoDsrcMi8",
        "colab_type": "code",
        "outputId": "1ad89b7d-478e-46f8-9f0f-00bd74824055",
        "colab": {
          "base_uri": "https://localhost:8080/",
          "height": 65
        }
      },
      "cell_type": "code",
      "source": [
        "!uptime"
      ],
      "execution_count": 23,
      "outputs": [
        {
          "output_type": "stream",
          "text": [
            " 02:56:55 up 5 min,  0 users,  load average: 0.43, 0.34, 0.16\n"
          ],
          "name": "stdout"
        }
      ]
    },
    {
      "metadata": {
        "id": "ze8unJAzwBGu",
        "colab_type": "code",
        "outputId": "bc15cd8f-802f-4e04-f336-d37eaeb045d6",
        "colab": {
          "base_uri": "https://localhost:8080/",
          "height": 184
        }
      },
      "cell_type": "code",
      "source": [
        "!ps -ef"
      ],
      "execution_count": 24,
      "outputs": [
        {
          "output_type": "stream",
          "text": [
            "UID          PID    PPID  C STIME TTY          TIME CMD\n",
            "root           1       0  0 02:52 ?        00:00:00 /bin/bash -e /datalab/run.sh\n",
            "root           8       1  0 02:52 ?        00:00:00 node /tools/node/bin/forever\n",
            "root          37       8  0 02:52 ?        00:00:01 /tools/node/bin/node /datala\n",
            "root          61      37  0 02:52 ?        00:00:01 /usr/bin/python2 /usr/local/\n",
            "root          68      61  2 02:52 ?        00:00:06 /usr/bin/python -m ipykernel\n",
            "root         269       1 99 02:56 ?        00:00:11 python2 object_detection/mod\n",
            "root         293      68 99 02:56 ?        00:00:01 ps -ef\n"
          ],
          "name": "stdout"
        }
      ]
    },
    {
      "metadata": {
        "id": "DviOIjgkrbK-",
        "colab_type": "code",
        "colab": {}
      },
      "cell_type": "code",
      "source": [
        "%ls"
      ],
      "execution_count": 0,
      "outputs": []
    },
    {
      "metadata": {
        "id": "tsN0siG_CbAI",
        "colab_type": "code",
        "outputId": "5e54fac4-ac2a-4d35-bc21-f74be3c0ecd2",
        "colab": {
          "base_uri": "https://localhost:8080/",
          "height": 65
        }
      },
      "cell_type": "code",
      "source": [
        "!pwd"
      ],
      "execution_count": 67,
      "outputs": [
        {
          "output_type": "stream",
          "text": [
            "/content/models/research\n"
          ],
          "name": "stdout"
        }
      ]
    },
    {
      "metadata": {
        "id": "2yza9uQTiajG",
        "colab_type": "code",
        "colab": {}
      },
      "cell_type": "code",
      "source": [
        "!cat ${DATA_DIR}/ssdlite_mobilenet_v2_coco.config"
      ],
      "execution_count": 0,
      "outputs": []
    },
    {
      "metadata": {
        "id": "pG9zSzsqiWPe",
        "colab_type": "code",
        "colab": {
          "base_uri": "https://localhost:8080/",
          "height": 99
        },
        "outputId": "7a342d27-5862-45b9-fc35-d47ecd9a4420"
      },
      "cell_type": "code",
      "source": [
        "!ls /content/train"
      ],
      "execution_count": 28,
      "outputs": [
        {
          "output_type": "stream",
          "text": [
            "checkpoint\t\t\t\t     model.ckpt-0.data-00000-of-00001\n",
            "events.out.tfevents.1542509845.a0c56fd36ae7  model.ckpt-0.index\n",
            "graph.pbtxt\t\t\t\t     model.ckpt-0.meta\n"
          ],
          "name": "stdout"
        }
      ]
    },
    {
      "metadata": {
        "id": "3HBkhZdAoQAs",
        "colab_type": "code",
        "colab": {
          "base_uri": "https://localhost:8080/",
          "height": 218
        },
        "outputId": "3444b013-d17b-44bd-fc98-f8e4df758f50"
      },
      "cell_type": "code",
      "source": [
        "%cat /content/data/label_map.pbtxt"
      ],
      "execution_count": 78,
      "outputs": [
        {
          "output_type": "stream",
          "text": [
            "item {\n",
            "  id: 1\n",
            "  name: '325'\n",
            "}\n",
            "\n",
            "item {\n",
            "  id: 1\n",
            "  name: '500'\n",
            "}\n",
            "\n"
          ],
          "name": "stdout"
        }
      ]
    }
  ]
}