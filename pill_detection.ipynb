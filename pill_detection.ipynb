{
  "nbformat": 4,
  "nbformat_minor": 0,
  "metadata": {
    "colab": {
      "name": "pill detection",
      "version": "0.3.2",
      "provenance": [],
      "collapsed_sections": [],
      "toc_visible": true,
      "include_colab_link": true
    },
    "kernelspec": {
      "name": "python2",
      "display_name": "Python 2"
    },
    "accelerator": "GPU"
  },
  "cells": [
    {
      "cell_type": "markdown",
      "metadata": {
        "id": "view-in-github",
        "colab_type": "text"
      },
      "source": [
        "<a href=\"https://colab.research.google.com/github/codingpotato/pill-detection/blob/master/pill_detection.ipynb\" target=\"_parent\"><img src=\"https://colab.research.google.com/assets/colab-badge.svg\" alt=\"Open In Colab\"/></a>"
      ]
    },
    {
      "metadata": {
        "id": "6NHrSMCJPVcQ",
        "colab_type": "text"
      },
      "cell_type": "markdown",
      "source": [
        "# Setup Environment"
      ]
    },
    {
      "metadata": {
        "id": "dsstQzSyeVDF",
        "colab_type": "text"
      },
      "cell_type": "markdown",
      "source": [
        "## Clone Pill Detection"
      ]
    },
    {
      "metadata": {
        "id": "qUB5tvgGeXzg",
        "colab_type": "code",
        "colab": {}
      },
      "cell_type": "code",
      "source": [
        "!git clone https://github.com/codingpotato/pill-detection.git\n",
        "!mkdir /content/pill-detection/generated_images\n",
        "!mkdir /content/pill-detection/data"
      ],
      "execution_count": 0,
      "outputs": []
    },
    {
      "metadata": {
        "id": "NCZpe58Hf0SE",
        "colab_type": "text"
      },
      "cell_type": "markdown",
      "source": [
        "## Download Pre-Trained Model"
      ]
    },
    {
      "metadata": {
        "id": "xmJy-EeIf1xh",
        "colab_type": "code",
        "colab": {}
      },
      "cell_type": "code",
      "source": [
        "!wget http://download.tensorflow.org/models/object_detection/ssdlite_mobilenet_v2_coco_2018_05_09.tar.gz"
      ],
      "execution_count": 0,
      "outputs": []
    },
    {
      "metadata": {
        "id": "g_js_OMUf9NX",
        "colab_type": "code",
        "colab": {}
      },
      "cell_type": "code",
      "source": [
        "!tar xfv ssdlite_mobilenet_v2_coco_2018_05_09.tar.gz\n",
        "!mv ssdlite_mobilenet_v2_coco_2018_05_09/model.ckpt* /content/pill-detection/data"
      ],
      "execution_count": 0,
      "outputs": []
    },
    {
      "metadata": {
        "id": "0dFqvYn8c7ec",
        "colab_type": "text"
      },
      "cell_type": "markdown",
      "source": [
        "## Install Tensorflow Object Detection API"
      ]
    },
    {
      "metadata": {
        "id": "vtPwE_nYlmbh",
        "colab_type": "code",
        "colab": {}
      },
      "cell_type": "code",
      "source": [
        "!git clone https://github.com/tensorflow/models.git"
      ],
      "execution_count": 0,
      "outputs": []
    },
    {
      "metadata": {
        "id": "hzPfXzRtdQBf",
        "colab_type": "code",
        "colab": {}
      },
      "cell_type": "code",
      "source": [
        "!pip install Cython\n",
        "!apt-get install protobuf-compiler\n",
        "!git clone https://github.com/cocodataset/cocoapi.git\n",
        "!cd cocoapi/PythonAPI; make; cp -r pycocotools /content/models/research/"
      ],
      "execution_count": 0,
      "outputs": []
    },
    {
      "metadata": {
        "id": "20VhgT8adeBI",
        "colab_type": "code",
        "colab": {}
      },
      "cell_type": "code",
      "source": [
        "%set_env PYTHONPATH=/content/models/research:/content/models/research/slim\n",
        "%cd /content/models/research\n",
        "!protoc object_detection/protos/*.proto --python_out=."
      ],
      "execution_count": 0,
      "outputs": []
    },
    {
      "metadata": {
        "id": "p3y6Mhopdoou",
        "colab_type": "text"
      },
      "cell_type": "markdown",
      "source": [
        "## Test Tensorflow Object Detection API"
      ]
    },
    {
      "metadata": {
        "id": "mconAYS4dtsW",
        "colab_type": "code",
        "colab": {}
      },
      "cell_type": "code",
      "source": [
        "!python object_detection/builders/model_builder_test.py"
      ],
      "execution_count": 0,
      "outputs": []
    },
    {
      "metadata": {
        "id": "pRhok8UbPnNO",
        "colab_type": "text"
      },
      "cell_type": "markdown",
      "source": [
        "# Prepare Images"
      ]
    },
    {
      "metadata": {
        "id": "KfdWddiYvQYI",
        "colab_type": "code",
        "colab": {}
      },
      "cell_type": "code",
      "source": [
        "data_path = '/content/pill-detection/data/'"
      ],
      "execution_count": 0,
      "outputs": []
    },
    {
      "metadata": {
        "id": "4Qn4kLIWQ5G9",
        "colab_type": "code",
        "colab": {}
      },
      "cell_type": "code",
      "source": [
        "from PIL import Image\n",
        "from random import randint\n",
        "import matplotlib.pyplot as plt\n",
        "\n",
        "image_prefix = '/content/pill-detection/images/'\n",
        "generated_image_prefix = '/content/pill-detection/generated_images/'\n",
        "image_size = (300, 300)\n",
        "\n",
        "def generate_images(name):\n",
        "  for index in xrange(1, 101):\n",
        "    image = Image.new('RGB', image_size, '#000')\n",
        "    pill_image = Image.open(image_prefix + name + '.png')\n",
        "    rotated_image = pill_image.rotate(randint(0, 359), expand=True)\n",
        "    x = randint(0, image_size[0] - rotated_image.size[0])\n",
        "    y = randint(0, image_size[1] - rotated_image.size[1])\n",
        "    image.paste(rotated_image, (x, y))\n",
        "    image.save(generated_image_prefix + name + '_' + str(index) + '.png')"
      ],
      "execution_count": 0,
      "outputs": []
    },
    {
      "metadata": {
        "id": "9hRJeWiltS7N",
        "colab_type": "code",
        "colab": {}
      },
      "cell_type": "code",
      "source": [
        "labels = ['325', '500']\n",
        "for label in labels:\n",
        "  generate_images(label)"
      ],
      "execution_count": 0,
      "outputs": []
    },
    {
      "metadata": {
        "id": "KPGoOfrtqfbq",
        "colab_type": "code",
        "colab": {}
      },
      "cell_type": "code",
      "source": [
        "import cv2\n",
        "\n",
        "def boundingRect(image):\n",
        "  image_bw = cv2.cvtColor(image, cv2.COLOR_BGR2GRAY)\n",
        "  _, image_bw = cv2.threshold(image_bw, 1, 255, cv2.THRESH_BINARY)\n",
        "  _, contours, _ = cv2.findContours(image_bw, cv2.RETR_TREE, cv2.CHAIN_APPROX_SIMPLE)\n",
        "\n",
        "  max_area = 0\n",
        "  x, y, w, h = (0, 0, 0, 0)\n",
        "  for cnt in contours:\n",
        "    area = cv2.contourArea(cnt)\n",
        "    if area > max_area:\n",
        "      max_area = area\n",
        "      x, y, w, h = cv2.boundingRect(cnt)\n",
        "  return (x, y, w, h)"
      ],
      "execution_count": 0,
      "outputs": []
    },
    {
      "metadata": {
        "id": "zbRkJnn4XsfF",
        "colab_type": "code",
        "colab": {
          "base_uri": "https://localhost:8080/",
          "height": 386
        },
        "outputId": "ddff4be1-c331-475a-ae95-4f5935376212"
      },
      "cell_type": "code",
      "source": [
        "image = cv2.imread(generated_image_prefix + '325_31.png')\n",
        "x, y, w, h = boundingRect(image)\n",
        "cv2.rectangle(image, (x, y), (x + w, y + h), (0, 255, 0), 1)\n",
        "cv2.imwrite(image_prefix + 'aa.png', image)\n",
        "plt.imshow(image)"
      ],
      "execution_count": 64,
      "outputs": [
        {
          "output_type": "execute_result",
          "data": {
            "text/plain": [
              "<matplotlib.image.AxesImage at 0x7f5093a38210>"
            ]
          },
          "metadata": {
            "tags": []
          },
          "execution_count": 64
        },
        {
          "output_type": "display_data",
          "data": {
            "image/png": "[encoded data removed]",
            "text/plain": [
              "<matplotlib.figure.Figure at 0x7f50d3eb70d0>"
            ]
          },
          "metadata": {
            "tags": []
          }
        }
      ]
    },
    {
      "metadata": {
        "id": "tagZ3kRBgh97",
        "colab_type": "text"
      },
      "cell_type": "markdown",
      "source": [
        "# Prepare Data"
      ]
    },
    {
      "metadata": {
        "id": "boXTaolbgkLQ",
        "colab_type": "text"
      },
      "cell_type": "markdown",
      "source": [
        "## Create Label Map"
      ]
    },
    {
      "metadata": {
        "id": "_5w-_EYEhWax",
        "colab_type": "code",
        "colab": {}
      },
      "cell_type": "code",
      "source": [
        "!echo -e \" \\n\\\n",
        "item { \\n\\\n",
        "  id: 1 \\n\\\n",
        "  name: '325' \\n\\\n",
        "} \\n\\\n",
        "\\n\\\n",
        "item { \\n\\\n",
        "  id: 2 \\n\\\n",
        "  name: '500' \\n\\\n",
        "} \\\n",
        "\" > /content/pill-detection/data/label_map.pbtxt"
      ],
      "execution_count": 0,
      "outputs": []
    },
    {
      "metadata": {
        "id": "38gZ26RAiVjZ",
        "colab_type": "code",
        "colab": {}
      },
      "cell_type": "code",
      "source": [
        "import tensorflow as tf\n",
        "from object_detection.utils import dataset_util\n",
        "\n",
        "\n",
        "def generate_tf_record(record_path, start, size):\n",
        "  writer = tf.python_io.TFRecordWriter(record_path)\n",
        "  label_index = 1\n",
        "  for label in labels:\n",
        "    for index in xrange(start, start + size):\n",
        "      filename = generated_image_prefix + label + '_' + str(index) + '.png'\n",
        "      image = cv2.imread(filename)\n",
        "      x, y, w, h = boundingRect(image)\n",
        "    \n",
        "      image_format = b'png'\n",
        "      with tf.gfile.GFile(filename, 'rb') as fid:\n",
        "        encoded_png = fid.read()\n",
        "      tf_example = tf.train.Example(features=tf.train.Features(feature={\n",
        "          'image/height': dataset_util.int64_feature(image_size[0]),\n",
        "          'image/width': dataset_util.int64_feature(image_size[1]),\n",
        "          'image/filename': dataset_util.bytes_feature(filename),\n",
        "          'image/source_id': dataset_util.bytes_feature(filename),\n",
        "          'image/encoded': dataset_util.bytes_feature(encoded_png),\n",
        "          'image/format': dataset_util.bytes_feature(image_format),\n",
        "          'image/object/bbox/xmin': dataset_util.float_list_feature([x]),\n",
        "          'image/object/bbox/xmax': dataset_util.float_list_feature([y]),\n",
        "          'image/object/bbox/ymin': dataset_util.float_list_feature(\n",
        "              [x + w - 1]),\n",
        "          'image/object/bbox/ymax': dataset_util.float_list_feature(\n",
        "              [y + h - 1]),\n",
        "          'image/object/class/text': dataset_util.bytes_list_feature(\n",
        "              [label]),\n",
        "          'image/object/class/label': dataset_util.int64_list_feature(\n",
        "              [label_index]),\n",
        "      }))\n",
        "      writer.write(tf_example.SerializeToString())\n",
        "    label_index += 1\n",
        "  writer.close()"
      ],
      "execution_count": 0,
      "outputs": []
    },
    {
      "metadata": {
        "id": "ySdTzDtsvJ5O",
        "colab_type": "code",
        "colab": {}
      },
      "cell_type": "code",
      "source": [
        "generate_tf_record(data_path + 'train.record', 1, 70)\n",
        "generate_tf_record(data_path + 'test.record', 71, 30)"
      ],
      "execution_count": 0,
      "outputs": []
    },
    {
      "metadata": {
        "id": "BLy0huKXcKoO",
        "colab_type": "text"
      },
      "cell_type": "markdown",
      "source": [
        "# Status"
      ]
    },
    {
      "metadata": {
        "id": "2oqerREsP2bT",
        "colab_type": "code",
        "colab": {
          "base_uri": "https://localhost:8080/",
          "height": 388
        },
        "outputId": "d3bf11f4-7343-49ac-890a-5858f7d39046"
      },
      "cell_type": "code",
      "source": [
        "!ls -l /content/pill-detection/data\n",
        "!cat /content/pill-detection/data/label_map.pbtxt"
      ],
      "execution_count": 88,
      "outputs": [
        {
          "output_type": "stream",
          "text": [
            "total 23572\n",
            "-rw-r--r-- 1 root   root        73 Nov 17 07:16 label_map.pbtxt\n",
            "-rw-r----- 1 345018 89939 18205188 May 10  2018 model.ckpt.data-00000-of-00001\n",
            "-rw-r----- 1 345018 89939    17703 May 10  2018 model.ckpt.index\n",
            "-rw-r----- 1 345018 89939  3665866 May 10  2018 model.ckpt.meta\n",
            "-rw-r--r-- 1 root   root    671019 Nov 17 08:23 test.record\n",
            "-rw-r--r-- 1 root   root   1568411 Nov 17 08:23 train.record\n",
            " \n",
            "item { \n",
            "  id: 1 \n",
            "  name: '325' \n",
            "} \n",
            "\n",
            "item { \n",
            "  id: 2 \n",
            "  name: '500' \n",
            "} \n"
          ],
          "name": "stdout"
        }
      ]
    },
    {
      "metadata": {
        "id": "sQZOoDsrcMi8",
        "colab_type": "code",
        "colab": {
          "base_uri": "https://localhost:8080/",
          "height": 147
        },
        "outputId": "0cee43f2-368e-4c43-f13c-269e47137c37"
      },
      "cell_type": "code",
      "source": [
        "!uptime"
      ],
      "execution_count": 69,
      "outputs": [
        {
          "output_type": "stream",
          "text": [
            " 08:19:07 up  2:29,  0 users,  load average: 0.22, 0.08, 0.02\n"
          ],
          "name": "stdout"
        }
      ]
    },
    {
      "metadata": {
        "id": "ze8unJAzwBGu",
        "colab_type": "code",
        "colab": {}
      },
      "cell_type": "code",
      "source": [
        "!ps"
      ],
      "execution_count": 0,
      "outputs": []
    }
  ]
}