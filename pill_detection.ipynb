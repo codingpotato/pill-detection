{
  "nbformat": 4,
  "nbformat_minor": 0,
  "metadata": {
    "colab": {
      "name": "pill detection",
      "version": "0.3.2",
      "provenance": [],
      "collapsed_sections": [],
      "toc_visible": true,
      "include_colab_link": true
    },
    "kernelspec": {
      "name": "python2",
      "display_name": "Python 2"
    },
    "accelerator": "GPU"
  },
  "cells": [
    {
      "cell_type": "markdown",
      "metadata": {
        "id": "view-in-github",
        "colab_type": "text"
      },
      "source": [
        "<a href=\"https://colab.research.google.com/github/codingpotato/pill-detection/blob/master/pill_detection.ipynb\" target=\"_parent\"><img src=\"https://colab.research.google.com/assets/colab-badge.svg\" alt=\"Open In Colab\"/></a>"
      ]
    },
    {
      "metadata": {
        "id": "6NHrSMCJPVcQ",
        "colab_type": "text"
      },
      "cell_type": "markdown",
      "source": [
        "# Setup Environment"
      ]
    },
    {
      "metadata": {
        "id": "dsstQzSyeVDF",
        "colab_type": "text"
      },
      "cell_type": "markdown",
      "source": [
        "## Clone Pill Detection"
      ]
    },
    {
      "metadata": {
        "id": "qUB5tvgGeXzg",
        "colab_type": "code",
        "outputId": "5662a9f1-e000-4d4a-d0c9-b5350e590105",
        "colab": {
          "base_uri": "https://localhost:8080/",
          "height": 119
        }
      },
      "cell_type": "code",
      "source": [
        "!git clone https://github.com/codingpotato/pill-detection.git"
      ],
      "execution_count": 1,
      "outputs": [
        {
          "output_type": "stream",
          "text": [
            "Cloning into 'pill-detection'...\n",
            "remote: Enumerating objects: 66, done.\u001b[K\n",
            "remote: Counting objects: 100% (66/66), done.\u001b[K\n",
            "remote: Compressing objects: 100% (56/56), done.\u001b[K\n",
            "remote: Total 66 (delta 33), reused 21 (delta 9), pack-reused 0\u001b[K\n",
            "Unpacking objects: 100% (66/66), done.\n"
          ],
          "name": "stdout"
        }
      ]
    },
    {
      "metadata": {
        "id": "JSe2VOJVcQ3d",
        "colab_type": "text"
      },
      "cell_type": "markdown",
      "source": [
        "## Environment Variables"
      ]
    },
    {
      "metadata": {
        "id": "csrDnAQMdg9z",
        "colab_type": "code",
        "colab": {}
      },
      "cell_type": "code",
      "source": [
        "import os\n",
        "\n",
        "os.environ['ROOT_DIR'] = os.getcwd()\n",
        "os.environ['IMAGE_DIR'] = os.path.join(os.environ['ROOT_DIR'], 'images')\n",
        "os.environ['DATA_DIR'] = os.path.join(os.environ['ROOT_DIR'], 'data')\n",
        "os.environ['TRAIN_DIR'] = os.path.join(os.environ['ROOT_DIR'], 'train')\n",
        "\n",
        "os.environ['PILL_DETECTION_DIR'] = os.path.join(os.environ['ROOT_DIR'],\n",
        "                                                'pill-detection')\n",
        "os.environ['ORIGIN_IMAGE_DIR'] = os.path.join(os.environ['PILL_DETECTION_DIR'],\n",
        "                                              'images')"
      ],
      "execution_count": 0,
      "outputs": []
    },
    {
      "metadata": {
        "id": "NP78U5gWWdqG",
        "colab_type": "code",
        "colab": {}
      },
      "cell_type": "code",
      "source": [
        "!mkdir ${IMAGE_DIR}\n",
        "!mkdir ${DATA_DIR}\n",
        "!mkdir ${TRAIN_DIR}"
      ],
      "execution_count": 0,
      "outputs": []
    },
    {
      "metadata": {
        "id": "NCZpe58Hf0SE",
        "colab_type": "text"
      },
      "cell_type": "markdown",
      "source": [
        "## Download Pre-Trained Model"
      ]
    },
    {
      "metadata": {
        "id": "xmJy-EeIf1xh",
        "colab_type": "code",
        "colab": {
          "base_uri": "https://localhost:8080/",
          "height": 235
        },
        "outputId": "d7bbadb8-d242-401b-da19-d1d1d8766639"
      },
      "cell_type": "code",
      "source": [
        "!wget http://download.tensorflow.org/models/object_detection/ssdlite_mobilenet_v2_coco_2018_05_09.tar.gz"
      ],
      "execution_count": 4,
      "outputs": [
        {
          "output_type": "stream",
          "text": [
            "--2018-11-18 06:33:08--  http://download.tensorflow.org/models/object_detection/ssdlite_mobilenet_v2_coco_2018_05_09.tar.gz\n",
            "Resolving download.tensorflow.org (download.tensorflow.org)... 74.125.206.128, 2a00:1450:400c:c04::80\n",
            "Connecting to download.tensorflow.org (download.tensorflow.org)|74.125.206.128|:80... connected.\n",
            "HTTP request sent, awaiting response... 200 OK\n",
            "Length: 51025348 (49M) [application/x-tar]\n",
            "Saving to: ‘ssdlite_mobilenet_v2_coco_2018_05_09.tar.gz’\n",
            "\n",
            "ssdlite_mobilenet_v 100%[===================>]  48.66M  46.1MB/s    in 1.1s    \n",
            "\n",
            "2018-11-18 06:33:09 (46.1 MB/s) - ‘ssdlite_mobilenet_v2_coco_2018_05_09.tar.gz’ saved [51025348/51025348]\n",
            "\n"
          ],
          "name": "stdout"
        }
      ]
    },
    {
      "metadata": {
        "id": "g_js_OMUf9NX",
        "colab_type": "code",
        "colab": {
          "base_uri": "https://localhost:8080/",
          "height": 218
        },
        "outputId": "fa4d20bf-cea2-486d-fe58-91980070eea6"
      },
      "cell_type": "code",
      "source": [
        "!tar xfv ssdlite_mobilenet_v2_coco_2018_05_09.tar.gz\n",
        "!mv ssdlite_mobilenet_v2_coco_2018_05_09/model.ckpt* ${DATA_DIR}"
      ],
      "execution_count": 5,
      "outputs": [
        {
          "output_type": "stream",
          "text": [
            "ssdlite_mobilenet_v2_coco_2018_05_09/checkpoint\n",
            "ssdlite_mobilenet_v2_coco_2018_05_09/model.ckpt.data-00000-of-00001\n",
            "ssdlite_mobilenet_v2_coco_2018_05_09/model.ckpt.meta\n",
            "ssdlite_mobilenet_v2_coco_2018_05_09/model.ckpt.index\n",
            "ssdlite_mobilenet_v2_coco_2018_05_09/saved_model/saved_model.pb\n",
            "ssdlite_mobilenet_v2_coco_2018_05_09/pipeline.config\n",
            "ssdlite_mobilenet_v2_coco_2018_05_09/frozen_inference_graph.pb\n",
            "ssdlite_mobilenet_v2_coco_2018_05_09/\n",
            "ssdlite_mobilenet_v2_coco_2018_05_09/saved_model/variables/\n",
            "ssdlite_mobilenet_v2_coco_2018_05_09/saved_model/\n"
          ],
          "name": "stdout"
        }
      ]
    },
    {
      "metadata": {
        "id": "0dFqvYn8c7ec",
        "colab_type": "text"
      },
      "cell_type": "markdown",
      "source": [
        "## Install Tensorflow Object Detection API"
      ]
    },
    {
      "metadata": {
        "id": "vtPwE_nYlmbh",
        "colab_type": "code",
        "colab": {
          "base_uri": "https://localhost:8080/",
          "height": 184
        },
        "outputId": "78e02c9c-3c72-46f8-fd01-ae7e75d0023b"
      },
      "cell_type": "code",
      "source": [
        "!git clone https://github.com/tensorflow/models.git"
      ],
      "execution_count": 6,
      "outputs": [
        {
          "output_type": "stream",
          "text": [
            "Cloning into 'models'...\n",
            "remote: Enumerating objects: 2, done.\u001b[K\n",
            "remote: Counting objects: 100% (2/2), done.\u001b[K\n",
            "remote: Compressing objects: 100% (2/2), done.\u001b[K\n",
            "remote: Total 22623 (delta 0), reused 0 (delta 0), pack-reused 22621\u001b[K\n",
            "Receiving objects: 100% (22623/22623), 562.73 MiB | 28.04 MiB/s, done.\n",
            "Resolving deltas: 100% (13138/13138), done.\n",
            "Checking out files: 100% (2836/2836), done.\n"
          ],
          "name": "stdout"
        }
      ]
    },
    {
      "metadata": {
        "id": "hzPfXzRtdQBf",
        "colab_type": "code",
        "colab": {
          "base_uri": "https://localhost:8080/",
          "height": 1737
        },
        "outputId": "45165092-061b-4dac-95ca-ff874015e779"
      },
      "cell_type": "code",
      "source": [
        "!pip install Cython\n",
        "!apt-get install protobuf-compiler\n",
        "!git clone https://github.com/cocodataset/cocoapi.git\n",
        "!cd cocoapi/PythonAPI; make; cp -r pycocotools ${ROOT_DIR}/models/research/"
      ],
      "execution_count": 7,
      "outputs": [
        {
          "output_type": "stream",
          "text": [
            "Collecting Cython\n",
            "\u001b[?25l  Downloading https://files.pythonhosted.org/packages/85/29/ccdbce68ba5fb97fd11c08e3cc79576f13e6e300d32a7953cd4c878c0996/Cython-0.29-cp27-cp27mu-manylinux1_x86_64.whl (2.0MB)\n",
            "\u001b[K    100% |████████████████████████████████| 2.0MB 8.7MB/s \n",
            "\u001b[?25hInstalling collected packages: Cython\n",
            "Successfully installed Cython-0.29\n",
            "Reading package lists... Done\n",
            "Building dependency tree       \n",
            "Reading state information... Done\n",
            "The following additional packages will be installed:\n",
            "  libprotobuf10 libprotoc10\n",
            "The following NEW packages will be installed:\n",
            "  libprotobuf10 libprotoc10 protobuf-compiler\n",
            "0 upgraded, 3 newly installed, 0 to remove and 5 not upgraded.\n",
            "Need to get 1,242 kB of archives.\n",
            "After this operation, 4,942 kB of additional disk space will be used.\n",
            "Get:1 http://archive.ubuntu.com/ubuntu bionic/main amd64 libprotobuf10 amd64 3.0.0-9.1ubuntu1 [651 kB]\n",
            "Get:2 http://archive.ubuntu.com/ubuntu bionic/main amd64 libprotoc10 amd64 3.0.0-9.1ubuntu1 [566 kB]\n",
            "Get:3 http://archive.ubuntu.com/ubuntu bionic/universe amd64 protobuf-compiler amd64 3.0.0-9.1ubuntu1 [24.5 kB]\n",
            "Fetched 1,242 kB in 0s (10.6 MB/s)\n",
            "Selecting previously unselected package libprotobuf10:amd64.\n",
            "(Reading database ... 22280 files and directories currently installed.)\n",
            "Preparing to unpack .../libprotobuf10_3.0.0-9.1ubuntu1_amd64.deb ...\n",
            "Unpacking libprotobuf10:amd64 (3.0.0-9.1ubuntu1) ...\n",
            "Selecting previously unselected package libprotoc10:amd64.\n",
            "Preparing to unpack .../libprotoc10_3.0.0-9.1ubuntu1_amd64.deb ...\n",
            "Unpacking libprotoc10:amd64 (3.0.0-9.1ubuntu1) ...\n",
            "Selecting previously unselected package protobuf-compiler.\n",
            "Preparing to unpack .../protobuf-compiler_3.0.0-9.1ubuntu1_amd64.deb ...\n",
            "Unpacking protobuf-compiler (3.0.0-9.1ubuntu1) ...\n",
            "Setting up libprotobuf10:amd64 (3.0.0-9.1ubuntu1) ...\n",
            "Processing triggers for libc-bin (2.27-3ubuntu1) ...\n",
            "Setting up libprotoc10:amd64 (3.0.0-9.1ubuntu1) ...\n",
            "Setting up protobuf-compiler (3.0.0-9.1ubuntu1) ...\n",
            "Processing triggers for libc-bin (2.27-3ubuntu1) ...\n",
            "Cloning into 'cocoapi'...\n",
            "remote: Enumerating objects: 947, done.\u001b[K\n",
            "remote: Total 947 (delta 0), reused 0 (delta 0), pack-reused 947\u001b[K\n",
            "Receiving objects: 100% (947/947), 11.69 MiB | 12.03 MiB/s, done.\n",
            "Resolving deltas: 100% (565/565), done.\n",
            "python setup.py build_ext --inplace\n",
            "running build_ext\n",
            "cythoning pycocotools/_mask.pyx to pycocotools/_mask.c\n",
            "/usr/local/lib/python2.7/dist-packages/Cython/Compiler/Main.py:367: FutureWarning: Cython directive 'language_level' not set, using 2 for now (Py2). This will change in a later release! File: /content/cocoapi/PythonAPI/pycocotools/_mask.pyx\n",
            "  tree = Parsing.p_module(s, pxd, full_module_name)\n",
            "building 'pycocotools._mask' extension\n",
            "creating build\n",
            "creating build/common\n",
            "creating build/temp.linux-x86_64-2.7\n",
            "creating build/temp.linux-x86_64-2.7/pycocotools\n",
            "x86_64-linux-gnu-gcc -pthread -DNDEBUG -g -fwrapv -O2 -Wall -Wstrict-prototypes -fno-strict-aliasing -Wdate-time -D_FORTIFY_SOURCE=2 -g -fdebug-prefix-map=/build/python2.7-3hk45v/python2.7-2.7.15~rc1=. -fstack-protector-strong -Wformat -Werror=format-security -fPIC -I/usr/local/lib/python2.7/dist-packages/numpy/core/include -I../common -I/usr/include/python2.7 -c ../common/maskApi.c -o build/temp.linux-x86_64-2.7/../common/maskApi.o -Wno-cpp -Wno-unused-function -std=c99\n",
            "\u001b[01m\u001b[K../common/maskApi.c:\u001b[m\u001b[K In function ‘\u001b[01m\u001b[KrleDecode\u001b[m\u001b[K’:\n",
            "\u001b[01m\u001b[K../common/maskApi.c:46:7:\u001b[m\u001b[K \u001b[01;35m\u001b[Kwarning: \u001b[m\u001b[Kthis ‘\u001b[01m\u001b[Kfor\u001b[m\u001b[K’ clause does not guard... [\u001b[01;35m\u001b[K-Wmisleading-indentation\u001b[m\u001b[K]\n",
            "       \u001b[01;35m\u001b[Kfor\u001b[m\u001b[K( k=0; k<R[i].cnts[j]; k++ ) *(M++)=v; v=!v; }}\n",
            "       \u001b[01;35m\u001b[K^~~\u001b[m\u001b[K\n",
            "\u001b[01m\u001b[K../common/maskApi.c:46:49:\u001b[m\u001b[K \u001b[01;36m\u001b[Knote: \u001b[m\u001b[K...this statement, but the latter is misleadingly indented as if it were guarded by the ‘\u001b[01m\u001b[Kfor\u001b[m\u001b[K’\n",
            "       for( k=0; k<R[i].cnts[j]; k++ ) *(M++)=v; \u001b[01;36m\u001b[Kv\u001b[m\u001b[K=!v; }}\n",
            "                                                 \u001b[01;36m\u001b[K^\u001b[m\u001b[K\n",
            "\u001b[01m\u001b[K../common/maskApi.c:\u001b[m\u001b[K In function ‘\u001b[01m\u001b[KrleFrPoly\u001b[m\u001b[K’:\n",
            "\u001b[01m\u001b[K../common/maskApi.c:166:3:\u001b[m\u001b[K \u001b[01;35m\u001b[Kwarning: \u001b[m\u001b[Kthis ‘\u001b[01m\u001b[Kfor\u001b[m\u001b[K’ clause does not guard... [\u001b[01;35m\u001b[K-Wmisleading-indentation\u001b[m\u001b[K]\n",
            "   \u001b[01;35m\u001b[Kfor\u001b[m\u001b[K(j=0; j<k; j++) x[j]=(int)(scale*xy[j*2+0]+.5); x[k]=x[0];\n",
            "   \u001b[01;35m\u001b[K^~~\u001b[m\u001b[K\n",
            "\u001b[01m\u001b[K../common/maskApi.c:166:54:\u001b[m\u001b[K \u001b[01;36m\u001b[Knote: \u001b[m\u001b[K...this statement, but the latter is misleadingly indented as if it were guarded by the ‘\u001b[01m\u001b[Kfor\u001b[m\u001b[K’\n",
            "   for(j=0; j<k; j++) x[j]=(int)(scale*xy[j*2+0]+.5); \u001b[01;36m\u001b[Kx\u001b[m\u001b[K[k]=x[0];\n",
            "                                                      \u001b[01;36m\u001b[K^\u001b[m\u001b[K\n",
            "\u001b[01m\u001b[K../common/maskApi.c:167:3:\u001b[m\u001b[K \u001b[01;35m\u001b[Kwarning: \u001b[m\u001b[Kthis ‘\u001b[01m\u001b[Kfor\u001b[m\u001b[K’ clause does not guard... [\u001b[01;35m\u001b[K-Wmisleading-indentation\u001b[m\u001b[K]\n",
            "   \u001b[01;35m\u001b[Kfor\u001b[m\u001b[K(j=0; j<k; j++) y[j]=(int)(scale*xy[j*2+1]+.5); y[k]=y[0];\n",
            "   \u001b[01;35m\u001b[K^~~\u001b[m\u001b[K\n",
            "\u001b[01m\u001b[K../common/maskApi.c:167:54:\u001b[m\u001b[K \u001b[01;36m\u001b[Knote: \u001b[m\u001b[K...this statement, but the latter is misleadingly indented as if it were guarded by the ‘\u001b[01m\u001b[Kfor\u001b[m\u001b[K’\n",
            "   for(j=0; j<k; j++) y[j]=(int)(scale*xy[j*2+1]+.5); \u001b[01;36m\u001b[Ky\u001b[m\u001b[K[k]=y[0];\n",
            "                                                      \u001b[01;36m\u001b[K^\u001b[m\u001b[K\n",
            "\u001b[01m\u001b[K../common/maskApi.c:\u001b[m\u001b[K In function ‘\u001b[01m\u001b[KrleToString\u001b[m\u001b[K’:\n",
            "\u001b[01m\u001b[K../common/maskApi.c:212:7:\u001b[m\u001b[K \u001b[01;35m\u001b[Kwarning: \u001b[m\u001b[Kthis ‘\u001b[01m\u001b[Kif\u001b[m\u001b[K’ clause does not guard... [\u001b[01;35m\u001b[K-Wmisleading-indentation\u001b[m\u001b[K]\n",
            "       \u001b[01;35m\u001b[Kif\u001b[m\u001b[K(more) c |= 0x20; c+=48; s[p++]=c;\n",
            "       \u001b[01;35m\u001b[K^~\u001b[m\u001b[K\n",
            "\u001b[01m\u001b[K../common/maskApi.c:212:27:\u001b[m\u001b[K \u001b[01;36m\u001b[Knote: \u001b[m\u001b[K...this statement, but the latter is misleadingly indented as if it were guarded by the ‘\u001b[01m\u001b[Kif\u001b[m\u001b[K’\n",
            "       if(more) c |= 0x20; \u001b[01;36m\u001b[Kc\u001b[m\u001b[K+=48; s[p++]=c;\n",
            "                           \u001b[01;36m\u001b[K^\u001b[m\u001b[K\n",
            "\u001b[01m\u001b[K../common/maskApi.c:\u001b[m\u001b[K In function ‘\u001b[01m\u001b[KrleFrString\u001b[m\u001b[K’:\n",
            "\u001b[01m\u001b[K../common/maskApi.c:220:3:\u001b[m\u001b[K \u001b[01;35m\u001b[Kwarning: \u001b[m\u001b[Kthis ‘\u001b[01m\u001b[Kwhile\u001b[m\u001b[K’ clause does not guard... [\u001b[01;35m\u001b[K-Wmisleading-indentation\u001b[m\u001b[K]\n",
            "   \u001b[01;35m\u001b[Kwhile\u001b[m\u001b[K( s[m] ) m++; cnts=malloc(sizeof(uint)*m); m=0;\n",
            "   \u001b[01;35m\u001b[K^~~~~\u001b[m\u001b[K\n",
            "\u001b[01m\u001b[K../common/maskApi.c:220:22:\u001b[m\u001b[K \u001b[01;36m\u001b[Knote: \u001b[m\u001b[K...this statement, but the latter is misleadingly indented as if it were guarded by the ‘\u001b[01m\u001b[Kwhile\u001b[m\u001b[K’\n",
            "   while( s[m] ) m++; \u001b[01;36m\u001b[Kcnts\u001b[m\u001b[K=malloc(sizeof(uint)*m); m=0;\n",
            "                      \u001b[01;36m\u001b[K^~~~\u001b[m\u001b[K\n",
            "\u001b[01m\u001b[K../common/maskApi.c:228:5:\u001b[m\u001b[K \u001b[01;35m\u001b[Kwarning: \u001b[m\u001b[Kthis ‘\u001b[01m\u001b[Kif\u001b[m\u001b[K’ clause does not guard... [\u001b[01;35m\u001b[K-Wmisleading-indentation\u001b[m\u001b[K]\n",
            "     \u001b[01;35m\u001b[Kif\u001b[m\u001b[K(m>2) x+=(long) cnts[m-2]; cnts[m++]=(uint) x;\n",
            "     \u001b[01;35m\u001b[K^~\u001b[m\u001b[K\n",
            "\u001b[01m\u001b[K../common/maskApi.c:228:34:\u001b[m\u001b[K \u001b[01;36m\u001b[Knote: \u001b[m\u001b[K...this statement, but the latter is misleadingly indented as if it were guarded by the ‘\u001b[01m\u001b[Kif\u001b[m\u001b[K’\n",
            "     if(m>2) x+=(long) cnts[m-2]; \u001b[01;36m\u001b[Kcnts\u001b[m\u001b[K[m++]=(uint) x;\n",
            "                                  \u001b[01;36m\u001b[K^~~~\u001b[m\u001b[K\n",
            "\u001b[01m\u001b[K../common/maskApi.c:\u001b[m\u001b[K In function ‘\u001b[01m\u001b[KrleToBbox\u001b[m\u001b[K’:\n",
            "\u001b[01m\u001b[K../common/maskApi.c:141:31:\u001b[m\u001b[K \u001b[01;35m\u001b[Kwarning: \u001b[m\u001b[K‘\u001b[01m\u001b[Kxp\u001b[m\u001b[K’ may be used uninitialized in this function [\u001b[01;35m\u001b[K-Wmaybe-uninitialized\u001b[m\u001b[K]\n",
            "       if(j%2==0) xp=x; else if\u001b[01;35m\u001b[K(\u001b[m\u001b[Kxp<x) { ys=0; ye=h-1; }\n",
            "                               \u001b[01;35m\u001b[K^\u001b[m\u001b[K\n",
            "x86_64-linux-gnu-gcc -pthread -DNDEBUG -g -fwrapv -O2 -Wall -Wstrict-prototypes -fno-strict-aliasing -Wdate-time -D_FORTIFY_SOURCE=2 -g -fdebug-prefix-map=/build/python2.7-3hk45v/python2.7-2.7.15~rc1=. -fstack-protector-strong -Wformat -Werror=format-security -fPIC -I/usr/local/lib/python2.7/dist-packages/numpy/core/include -I../common -I/usr/include/python2.7 -c pycocotools/_mask.c -o build/temp.linux-x86_64-2.7/pycocotools/_mask.o -Wno-cpp -Wno-unused-function -std=c99\n",
            "creating build/lib.linux-x86_64-2.7\n",
            "creating build/lib.linux-x86_64-2.7/pycocotools\n",
            "x86_64-linux-gnu-gcc -pthread -shared -Wl,-O1 -Wl,-Bsymbolic-functions -Wl,-Bsymbolic-functions -Wl,-z,relro -fno-strict-aliasing -DNDEBUG -g -fwrapv -O2 -Wall -Wstrict-prototypes -Wdate-time -D_FORTIFY_SOURCE=2 -g -fdebug-prefix-map=/build/python2.7-3hk45v/python2.7-2.7.15~rc1=. -fstack-protector-strong -Wformat -Werror=format-security -Wl,-Bsymbolic-functions -Wl,-z,relro -Wdate-time -D_FORTIFY_SOURCE=2 -g -fdebug-prefix-map=/build/python2.7-3hk45v/python2.7-2.7.15~rc1=. -fstack-protector-strong -Wformat -Werror=format-security build/temp.linux-x86_64-2.7/../common/maskApi.o build/temp.linux-x86_64-2.7/pycocotools/_mask.o -o build/lib.linux-x86_64-2.7/pycocotools/_mask.so\n",
            "copying build/lib.linux-x86_64-2.7/pycocotools/_mask.so -> pycocotools\n",
            "rm -rf build\n"
          ],
          "name": "stdout"
        }
      ]
    },
    {
      "metadata": {
        "id": "20VhgT8adeBI",
        "colab_type": "code",
        "colab": {
          "base_uri": "https://localhost:8080/",
          "height": 82
        },
        "outputId": "1ff9c246-702a-4e50-b02e-1d5588c57173"
      },
      "cell_type": "code",
      "source": [
        "%env PYTHONPATH=/content/models/research:/content/models/research/slim\n",
        "%cd /content/models/research\n",
        "!protoc object_detection/protos/*.proto --python_out=."
      ],
      "execution_count": 8,
      "outputs": [
        {
          "output_type": "stream",
          "text": [
            "env: PYTHONPATH=/content/models/research:/content/models/research/slim\n",
            "/content/models/research\n"
          ],
          "name": "stdout"
        }
      ]
    },
    {
      "metadata": {
        "id": "p3y6Mhopdoou",
        "colab_type": "text"
      },
      "cell_type": "markdown",
      "source": [
        "## Test Tensorflow Object Detection API"
      ]
    },
    {
      "metadata": {
        "id": "mconAYS4dtsW",
        "colab_type": "code",
        "colab": {
          "base_uri": "https://localhost:8080/",
          "height": 133
        },
        "outputId": "6d8b22c7-f036-4ba8-f079-d2de5fa2e52d"
      },
      "cell_type": "code",
      "source": [
        "!python object_detection/builders/model_builder_test.py"
      ],
      "execution_count": 9,
      "outputs": [
        {
          "output_type": "stream",
          "text": [
            "......................\n",
            "----------------------------------------------------------------------\n",
            "Ran 22 tests in 0.127s\n",
            "\n",
            "OK\n"
          ],
          "name": "stdout"
        }
      ]
    },
    {
      "metadata": {
        "id": "pRhok8UbPnNO",
        "colab_type": "text"
      },
      "cell_type": "markdown",
      "source": [
        "# Prepare Images"
      ]
    },
    {
      "metadata": {
        "id": "4Qn4kLIWQ5G9",
        "colab_type": "code",
        "colab": {}
      },
      "cell_type": "code",
      "source": [
        "from PIL import Image\n",
        "from random import randint\n",
        "\n",
        "image_width = 300\n",
        "image_height = 300\n",
        "\n",
        "def generate_images(name):\n",
        "  for index in xrange(1, 101):\n",
        "    image = Image.new('RGB', (image_width, image_height), '#000')\n",
        "    image_path = os.path.join(os.environ['ORIGIN_IMAGE_DIR'], name + '.png')\n",
        "    pill_image = Image.open(image_path)\n",
        "    rotated_image = pill_image.rotate(randint(0, 359), expand=True)\n",
        "    x = randint(0, image_width - rotated_image.size[0])\n",
        "    y = randint(0, image_height - rotated_image.size[1])\n",
        "    image.paste(rotated_image, (x, y))\n",
        "    save_path = os.path.join(os.environ['IMAGE_DIR'], \n",
        "                             name + '_' + str(index) + '.png')\n",
        "    image.save(save_path)"
      ],
      "execution_count": 0,
      "outputs": []
    },
    {
      "metadata": {
        "id": "-1Byt31wcMga",
        "colab_type": "code",
        "colab": {}
      },
      "cell_type": "code",
      "source": [
        "files = os.listdir(os.environ['ORIGIN_IMAGE_DIR'])\n",
        "labels = [os.path.splitext(f)[0] for f in files]"
      ],
      "execution_count": 0,
      "outputs": []
    },
    {
      "metadata": {
        "id": "9hRJeWiltS7N",
        "colab_type": "code",
        "colab": {}
      },
      "cell_type": "code",
      "source": [
        "for label in labels:\n",
        "  generate_images(label)"
      ],
      "execution_count": 0,
      "outputs": []
    },
    {
      "metadata": {
        "id": "KPGoOfrtqfbq",
        "colab_type": "code",
        "colab": {}
      },
      "cell_type": "code",
      "source": [
        "import cv2\n",
        "\n",
        "def boundingRect(image):\n",
        "  image_bw = cv2.cvtColor(image, cv2.COLOR_BGR2GRAY)\n",
        "  _, image_bw = cv2.threshold(image_bw, 1, 255, cv2.THRESH_BINARY)\n",
        "  _, contours, _ = cv2.findContours(image_bw,\n",
        "                                    cv2.RETR_TREE, cv2.CHAIN_APPROX_SIMPLE)\n",
        "\n",
        "  max_area = 0\n",
        "  x, y, w, h = 0, 0, 0, 0\n",
        "  for cnt in contours:\n",
        "    area = cv2.contourArea(cnt)\n",
        "    if area > max_area:\n",
        "      max_area = area\n",
        "      x, y, w, h = cv2.boundingRect(cnt)\n",
        "  return (x, y, w, h)"
      ],
      "execution_count": 0,
      "outputs": []
    },
    {
      "metadata": {
        "id": "zbRkJnn4XsfF",
        "colab_type": "code",
        "outputId": "35145cd6-b113-4b20-dfb6-de85b292482d",
        "colab": {
          "base_uri": "https://localhost:8080/",
          "height": 367
        }
      },
      "cell_type": "code",
      "source": [
        "import matplotlib.pyplot as plt\n",
        "\n",
        "image_path = os.path.join(os.environ['IMAGE_DIR'], labels[0] + '_1.png')\n",
        "image = cv2.imread(image_path)\n",
        "x, y, w, h = boundingRect(image)\n",
        "cv2.rectangle(image, (x, y), (x + w, y + h), (0, 255, 0), 1)\n",
        "plt.imshow(image)"
      ],
      "execution_count": 16,
      "outputs": [
        {
          "output_type": "execute_result",
          "data": {
            "text/plain": [
              "<matplotlib.image.AxesImage at 0x7f211c57f210>"
            ]
          },
          "metadata": {
            "tags": []
          },
          "execution_count": 16
        },
        {
          "output_type": "display_data",
          "data": {
            "image/png": "[encoded data removed]",
            "text/plain": [
              "<matplotlib.figure.Figure at 0x7f211c637750>"
            ]
          },
          "metadata": {
            "tags": []
          }
        }
      ]
    },
    {
      "metadata": {
        "id": "tagZ3kRBgh97",
        "colab_type": "text"
      },
      "cell_type": "markdown",
      "source": [
        "# Prepare Data"
      ]
    },
    {
      "metadata": {
        "id": "boXTaolbgkLQ",
        "colab_type": "text"
      },
      "cell_type": "markdown",
      "source": [
        "## Create Label Map"
      ]
    },
    {
      "metadata": {
        "id": "_5w-_EYEhWax",
        "colab_type": "code",
        "colab": {}
      },
      "cell_type": "code",
      "source": [
        "file_path = os.path.join(os.environ['DATA_DIR'], 'label_map.pbtxt')\n",
        "with open(file_path, 'w') as f:\n",
        "  index = 1\n",
        "  for label in labels:\n",
        "    f.write(\"item {\\n  id: \" + str(index) + \"\\n  name: '\" + label + \"'\\n}\\n\\n\")\n",
        "    index += 1"
      ],
      "execution_count": 0,
      "outputs": []
    },
    {
      "metadata": {
        "id": "EGTVd28-xsW1",
        "colab_type": "text"
      },
      "cell_type": "markdown",
      "source": [
        "## Generate TF Record"
      ]
    },
    {
      "metadata": {
        "id": "38gZ26RAiVjZ",
        "colab_type": "code",
        "colab": {}
      },
      "cell_type": "code",
      "source": [
        "import tensorflow as tf\n",
        "from object_detection.utils import dataset_util\n",
        "\n",
        "\n",
        "def generate_tf_record(record_path, start, size):\n",
        "  writer = tf.python_io.TFRecordWriter(record_path)\n",
        "  label_index = 1\n",
        "  for label in labels:\n",
        "    for index in xrange(start, start + size):\n",
        "      filename = os.path.join(os.environ['IMAGE_DIR'],\n",
        "                              label + '_' + str(index) + '.png')\n",
        "      image = cv2.imread(filename)\n",
        "      x, y, w, h = boundingRect(image)\n",
        "    \n",
        "      image_format = b'png'\n",
        "      with tf.gfile.GFile(filename, 'rb') as fid:\n",
        "        encoded_png = fid.read()\n",
        "      \n",
        "      xmin = float(x) / image_width\n",
        "      ymin = float(y) / image_height\n",
        "      xmax = float(x + w - 1) / image_width\n",
        "      ymax = float(y + h - 1) / image_height\n",
        "      \n",
        "      tf_example = tf.train.Example(features=tf.train.Features(feature={\n",
        "          'image/height': dataset_util.int64_feature(image_width),\n",
        "          'image/width': dataset_util.int64_feature(image_height),\n",
        "          'image/filename': dataset_util.bytes_feature(filename),\n",
        "          'image/source_id': dataset_util.bytes_feature(filename),\n",
        "          'image/encoded': dataset_util.bytes_feature(encoded_png),\n",
        "          'image/format': dataset_util.bytes_feature(image_format),\n",
        "          'image/object/bbox/xmin': dataset_util.float_list_feature([xmin]),\n",
        "          'image/object/bbox/xmax': dataset_util.float_list_feature([xmax]),\n",
        "          'image/object/bbox/ymin': dataset_util.float_list_feature([ymin]),\n",
        "          'image/object/bbox/ymax': dataset_util.float_list_feature([ymax]),\n",
        "          'image/object/class/text': dataset_util.bytes_list_feature(\n",
        "              [label]),\n",
        "          'image/object/class/label': dataset_util.int64_list_feature(\n",
        "              [label_index]),\n",
        "      }))\n",
        "      writer.write(tf_example.SerializeToString())\n",
        "    label_index += 1\n",
        "  writer.close()"
      ],
      "execution_count": 0,
      "outputs": []
    },
    {
      "metadata": {
        "id": "ySdTzDtsvJ5O",
        "colab_type": "code",
        "colab": {}
      },
      "cell_type": "code",
      "source": [
        "train_record = os.path.join(os.environ['DATA_DIR'], 'train.record')\n",
        "generate_tf_record(train_record, 1, 70)\n",
        "test_record = os.path.join(os.environ['DATA_DIR'], 'test.record')\n",
        "generate_tf_record(test_record, 71, 30)"
      ],
      "execution_count": 0,
      "outputs": []
    },
    {
      "metadata": {
        "id": "AzolLgIkxv9U",
        "colab_type": "text"
      },
      "cell_type": "markdown",
      "source": [
        "## Create Config file"
      ]
    },
    {
      "metadata": {
        "id": "Xdmkq6Dgx1DD",
        "colab_type": "code",
        "colab": {}
      },
      "cell_type": "code",
      "source": [
        "!cp object_detection/samples/configs/ssdlite_mobilenet_v2_coco.config ${DATA_DIR}\n",
        "!sed -i \"s|PATH_TO_BE_CONFIGURED|${DATA_DIR}|g\" ${DATA_DIR}/ssdlite_mobilenet_v2_coco.config\n",
        "!sed -i \"s|mscoco_label_map.pbtxt|label_map.pbtxt|g\" ${DATA_DIR}/ssdlite_mobilenet_v2_coco.config\n",
        "!sed -i \"s|mscoco_train.record-?????-of-00100|train.record|g\" ${DATA_DIR}/ssdlite_mobilenet_v2_coco.config\n",
        "!sed -i \"s|mscoco_val.record-?????-of-00010|test.record|g\" ${DATA_DIR}/ssdlite_mobilenet_v2_coco.config"
      ],
      "execution_count": 0,
      "outputs": []
    },
    {
      "metadata": {
        "id": "_oB-fyc5zDsg",
        "colab_type": "text"
      },
      "cell_type": "markdown",
      "source": [
        "# Train"
      ]
    },
    {
      "metadata": {
        "id": "a7mPBqVTzFnN",
        "colab_type": "code",
        "colab": {}
      },
      "cell_type": "code",
      "source": [
        "get_ipython().system_raw('python object_detection/model_main.py \\\n",
        "    --pipeline_config_path=${DATA_DIR}/ssdlite_mobilenet_v2_coco.config \\\n",
        "    --model_dir=${TRAIN_DIR} \\\n",
        "    --num_train_steps=50000 \\\n",
        "    --sample_1_of_n_eval_examples=1 \\\n",
        "    --alsologtostderr &')"
      ],
      "execution_count": 0,
      "outputs": []
    },
    {
      "metadata": {
        "id": "X7EMKcQS9NbI",
        "colab_type": "text"
      },
      "cell_type": "markdown",
      "source": [
        "# TensorBoard"
      ]
    },
    {
      "metadata": {
        "id": "c3F3LWrz9PyJ",
        "colab_type": "code",
        "outputId": "e311d54a-f4fc-46d3-e0ea-2de05850df27",
        "colab": {
          "base_uri": "https://localhost:8080/",
          "height": 269
        }
      },
      "cell_type": "code",
      "source": [
        "! wget https://bin.equinox.io/c/4VmDzA7iaHb/ngrok-stable-linux-amd64.zip\n",
        "! unzip ngrok-stable-linux-amd64.zip"
      ],
      "execution_count": 30,
      "outputs": [
        {
          "output_type": "stream",
          "text": [
            "--2018-11-18 06:39:00--  https://bin.equinox.io/c/4VmDzA7iaHb/ngrok-stable-linux-amd64.zip\n",
            "Resolving bin.equinox.io (bin.equinox.io)... 54.174.228.92, 52.44.92.122, 54.165.51.142, ...\n",
            "Connecting to bin.equinox.io (bin.equinox.io)|54.174.228.92|:443... connected.\n",
            "HTTP request sent, awaiting response... 200 OK\n",
            "Length: 5363700 (5.1M) [application/octet-stream]\n",
            "Saving to: ‘ngrok-stable-linux-amd64.zip’\n",
            "\n",
            "ngrok-stable-linux- 100%[===================>]   5.11M  7.67MB/s    in 0.7s    \n",
            "\n",
            "2018-11-18 06:39:01 (7.67 MB/s) - ‘ngrok-stable-linux-amd64.zip’ saved [5363700/5363700]\n",
            "\n",
            "Archive:  ngrok-stable-linux-amd64.zip\n",
            "  inflating: ngrok                   \n"
          ],
          "name": "stdout"
        }
      ]
    },
    {
      "metadata": {
        "id": "Dgy_iZsq9dAO",
        "colab_type": "code",
        "colab": {}
      },
      "cell_type": "code",
      "source": [
        "get_ipython().system_raw('tensorboard --logdir ${ROOT_DIR} --host 0.0.0.0 --port 6006 &')"
      ],
      "execution_count": 0,
      "outputs": []
    },
    {
      "metadata": {
        "id": "YubBPT5W9mR2",
        "colab_type": "code",
        "colab": {}
      },
      "cell_type": "code",
      "source": [
        "get_ipython().system_raw('./ngrok http 6006 &')"
      ],
      "execution_count": 0,
      "outputs": []
    },
    {
      "metadata": {
        "id": "lpXvqF6H9qph",
        "colab_type": "code",
        "outputId": "644b9f14-edb1-4284-b230-2abdbf9e164e",
        "colab": {
          "base_uri": "https://localhost:8080/",
          "height": 65
        }
      },
      "cell_type": "code",
      "source": [
        "!curl -s http://localhost:4040/api/tunnels | python3 -c \\\n",
        " \"import sys, json; print(json.load(sys.stdin)['tunnels'][0]['public_url'])\""
      ],
      "execution_count": 33,
      "outputs": [
        {
          "output_type": "stream",
          "text": [
            "http://ba640030.ngrok.io\n"
          ],
          "name": "stdout"
        }
      ]
    },
    {
      "metadata": {
        "id": "BLy0huKXcKoO",
        "colab_type": "text"
      },
      "cell_type": "markdown",
      "source": [
        "# Status"
      ]
    },
    {
      "metadata": {
        "id": "sQZOoDsrcMi8",
        "colab_type": "code",
        "outputId": "93bcf219-761a-44b9-94da-be4f19cef238",
        "colab": {
          "base_uri": "https://localhost:8080/",
          "height": 65
        }
      },
      "cell_type": "code",
      "source": [
        "!uptime"
      ],
      "execution_count": 27,
      "outputs": [
        {
          "output_type": "stream",
          "text": [
            " 06:38:08 up 8 min,  0 users,  load average: 0.23, 0.23, 0.13\n"
          ],
          "name": "stdout"
        }
      ]
    },
    {
      "metadata": {
        "id": "ze8unJAzwBGu",
        "colab_type": "code",
        "outputId": "4a9e8023-2986-4e3e-c356-5856f7452427",
        "colab": {
          "base_uri": "https://localhost:8080/",
          "height": 184
        }
      },
      "cell_type": "code",
      "source": [
        "!ps -ef"
      ],
      "execution_count": 28,
      "outputs": [
        {
          "output_type": "stream",
          "text": [
            "UID          PID    PPID  C STIME TTY          TIME CMD\n",
            "root           1       0  0 06:30 ?        00:00:00 /bin/bash -e /datalab/run.sh\n",
            "root          12       1  0 06:30 ?        00:00:00 node /tools/node/bin/forever\n",
            "root          39      12  0 06:30 ?        00:00:01 /tools/node/bin/node /datala\n",
            "root          65      39  0 06:30 ?        00:00:01 /usr/bin/python2 /usr/local/\n",
            "root          72      65  3 06:31 ?        00:00:13 /usr/bin/python -m ipykernel\n",
            "root         281       1 98 06:37 ?        00:00:14 python2 object_detection/mod\n",
            "root         319      72 99 06:38 ?        00:00:01 ps -ef\n"
          ],
          "name": "stdout"
        }
      ]
    },
    {
      "metadata": {
        "id": "tsN0siG_CbAI",
        "colab_type": "code",
        "outputId": "5e54fac4-ac2a-4d35-bc21-f74be3c0ecd2",
        "colab": {
          "base_uri": "https://localhost:8080/",
          "height": 65
        }
      },
      "cell_type": "code",
      "source": [
        "!pwd"
      ],
      "execution_count": 67,
      "outputs": [
        {
          "output_type": "stream",
          "text": [
            "/content/models/research\n"
          ],
          "name": "stdout"
        }
      ]
    },
    {
      "metadata": {
        "id": "2yza9uQTiajG",
        "colab_type": "code",
        "colab": {}
      },
      "cell_type": "code",
      "source": [
        "!cat ${DATA_DIR}/ssdlite_mobilenet_v2_coco.config"
      ],
      "execution_count": 0,
      "outputs": []
    },
    {
      "metadata": {
        "id": "pG9zSzsqiWPe",
        "colab_type": "code",
        "colab": {
          "base_uri": "https://localhost:8080/",
          "height": 99
        },
        "outputId": "0c4ca213-d5be-46ea-d132-91561fa0a91f"
      },
      "cell_type": "code",
      "source": [
        "!ls /content/train"
      ],
      "execution_count": 34,
      "outputs": [
        {
          "output_type": "stream",
          "text": [
            "checkpoint\t\t\t\t     model.ckpt-0.data-00000-of-00001\n",
            "events.out.tfevents.1542523116.e562cc28585a  model.ckpt-0.index\n",
            "graph.pbtxt\t\t\t\t     model.ckpt-0.meta\n"
          ],
          "name": "stdout"
        }
      ]
    },
    {
      "metadata": {
        "id": "3HBkhZdAoQAs",
        "colab_type": "code",
        "colab": {
          "base_uri": "https://localhost:8080/",
          "height": 898
        },
        "outputId": "18251aca-a7e3-4966-bc6e-903f1f81ef9c"
      },
      "cell_type": "code",
      "source": [
        "%cat /content/data/label_map.pbtxt"
      ],
      "execution_count": 20,
      "outputs": [
        {
          "output_type": "stream",
          "text": [
            "item {\n",
            "  id: 1\n",
            "  name: '045'\n",
            "}\n",
            "\n",
            "item {\n",
            "  id: 2\n",
            "  name: '500'\n",
            "}\n",
            "\n",
            "item {\n",
            "  id: 3\n",
            "  name: '7663'\n",
            "}\n",
            "\n",
            "item {\n",
            "  id: 4\n",
            "  name: '4141'\n",
            "}\n",
            "\n",
            "item {\n",
            "  id: 5\n",
            "  name: '227'\n",
            "}\n",
            "\n",
            "item {\n",
            "  id: 6\n",
            "  name: 'VCR25'\n",
            "}\n",
            "\n",
            "item {\n",
            "  id: 7\n",
            "  name: '54848'\n",
            "}\n",
            "\n",
            "item {\n",
            "  id: 8\n",
            "  name: 'SCU1'\n",
            "}\n",
            "\n",
            "item {\n",
            "  id: 9\n",
            "  name: 'SUSTIVA'\n",
            "}\n",
            "\n",
            "item {\n",
            "  id: 10\n",
            "  name: '325'\n",
            "}\n",
            "\n"
          ],
          "name": "stdout"
        }
      ]
    }
  ]
}